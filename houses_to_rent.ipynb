{
 "cells": [
  {
   "cell_type": "markdown",
   "id": "647868f8",
   "metadata": {},
   "source": [
    "# Imports"
   ]
  },
  {
   "cell_type": "code",
   "execution_count": 4,
   "id": "1048a19e",
   "metadata": {
    "ExecuteTime": {
     "end_time": "2021-10-27T10:01:28.799884Z",
     "start_time": "2021-10-27T10:01:28.793266Z"
    }
   },
   "outputs": [],
   "source": [
    "# bibliotecas que serão usadas ao longo do notebook\n",
    "import numpy as np\n",
    "import pandas as pd\n",
    "import matplotlib.pyplot as plt\n",
    "import seaborn as sns\n",
    "import statsmodels.api as sm\n",
    "\n",
    "from sklearn.preprocessing import LabelEncoder\n",
    "from sklearn.model_selection import train_test_split\n",
    "from sklearn.linear_model import LinearRegression, Lasso\n",
    "from sklearn.ensemble import RandomForestRegressor\n",
    "from sklearn import metrics\n",
    "from scipy import stats\n",
    "from IPython.core.display import HTML"
   ]
  },
  {
   "cell_type": "markdown",
   "id": "d903acd2",
   "metadata": {},
   "source": [
    "## Funções de Auxílio"
   ]
  },
  {
   "cell_type": "code",
   "execution_count": 5,
   "id": "dce98c4d",
   "metadata": {
    "ExecuteTime": {
     "end_time": "2021-10-27T10:01:28.908685Z",
     "start_time": "2021-10-27T10:01:28.891519Z"
    }
   },
   "outputs": [
    {
     "name": "stdout",
     "output_type": "stream",
     "text": [
      "Populating the interactive namespace from numpy and matplotlib\n"
     ]
    },
    {
     "data": {
      "text/html": [
       "<style>.container { width:100% !important; }</style>"
      ],
      "text/plain": [
       "<IPython.core.display.HTML object>"
      ]
     },
     "metadata": {},
     "output_type": "display_data"
    }
   ],
   "source": [
    "# função dos parâmetros do gráfico\n",
    "def jupyter_settings():\n",
    "    %matplotlib inline\n",
    "    %pylab inline\n",
    "    \n",
    "    plt.style.use( 'bmh' )\n",
    "    plt.rcParams['figure.figsize'] = [25, 12]\n",
    "    plt.rcParams['font.size'] = 24\n",
    "    \n",
    "    display( HTML( '<style>.container { width:100% !important; }</style>') )\n",
    "    pd.options.display.max_columns = None\n",
    "    pd.options.display.max_rows = None\n",
    "    pd.set_option( 'display.expand_frame_repr', False )\n",
    "    \n",
    "    sns.set()\n",
    "\n",
    "jupyter_settings()"
   ]
  },
  {
   "cell_type": "markdown",
   "id": "cd49d891",
   "metadata": {},
   "source": [
    "## Carregando os dados "
   ]
  },
  {
   "cell_type": "code",
   "execution_count": 6,
   "id": "ebdb4aa5",
   "metadata": {
    "ExecuteTime": {
     "end_time": "2021-10-27T10:01:29.066259Z",
     "start_time": "2021-10-27T10:01:29.024200Z"
    }
   },
   "outputs": [
    {
     "data": {
      "text/html": [
       "<div>\n",
       "<style scoped>\n",
       "    .dataframe tbody tr th:only-of-type {\n",
       "        vertical-align: middle;\n",
       "    }\n",
       "\n",
       "    .dataframe tbody tr th {\n",
       "        vertical-align: top;\n",
       "    }\n",
       "\n",
       "    .dataframe thead th {\n",
       "        text-align: right;\n",
       "    }\n",
       "</style>\n",
       "<table border=\"1\" class=\"dataframe\">\n",
       "  <thead>\n",
       "    <tr style=\"text-align: right;\">\n",
       "      <th></th>\n",
       "      <th>city</th>\n",
       "      <th>area</th>\n",
       "      <th>rooms</th>\n",
       "      <th>bathroom</th>\n",
       "      <th>parking spaces</th>\n",
       "      <th>floor</th>\n",
       "      <th>animal</th>\n",
       "      <th>furniture</th>\n",
       "      <th>hoa (R$)</th>\n",
       "      <th>rent amount (R$)</th>\n",
       "      <th>property tax (R$)</th>\n",
       "      <th>fire insurance (R$)</th>\n",
       "      <th>total (R$)</th>\n",
       "    </tr>\n",
       "  </thead>\n",
       "  <tbody>\n",
       "    <tr>\n",
       "      <th>0</th>\n",
       "      <td>São Paulo</td>\n",
       "      <td>70</td>\n",
       "      <td>2</td>\n",
       "      <td>1</td>\n",
       "      <td>1</td>\n",
       "      <td>7</td>\n",
       "      <td>acept</td>\n",
       "      <td>furnished</td>\n",
       "      <td>2065</td>\n",
       "      <td>3300</td>\n",
       "      <td>211</td>\n",
       "      <td>42</td>\n",
       "      <td>5618</td>\n",
       "    </tr>\n",
       "    <tr>\n",
       "      <th>1</th>\n",
       "      <td>São Paulo</td>\n",
       "      <td>320</td>\n",
       "      <td>4</td>\n",
       "      <td>4</td>\n",
       "      <td>0</td>\n",
       "      <td>20</td>\n",
       "      <td>acept</td>\n",
       "      <td>not furnished</td>\n",
       "      <td>1200</td>\n",
       "      <td>4960</td>\n",
       "      <td>1750</td>\n",
       "      <td>63</td>\n",
       "      <td>7973</td>\n",
       "    </tr>\n",
       "    <tr>\n",
       "      <th>2</th>\n",
       "      <td>Porto Alegre</td>\n",
       "      <td>80</td>\n",
       "      <td>1</td>\n",
       "      <td>1</td>\n",
       "      <td>1</td>\n",
       "      <td>6</td>\n",
       "      <td>acept</td>\n",
       "      <td>not furnished</td>\n",
       "      <td>1000</td>\n",
       "      <td>2800</td>\n",
       "      <td>0</td>\n",
       "      <td>41</td>\n",
       "      <td>3841</td>\n",
       "    </tr>\n",
       "    <tr>\n",
       "      <th>3</th>\n",
       "      <td>Porto Alegre</td>\n",
       "      <td>51</td>\n",
       "      <td>2</td>\n",
       "      <td>1</td>\n",
       "      <td>0</td>\n",
       "      <td>2</td>\n",
       "      <td>acept</td>\n",
       "      <td>not furnished</td>\n",
       "      <td>270</td>\n",
       "      <td>1112</td>\n",
       "      <td>22</td>\n",
       "      <td>17</td>\n",
       "      <td>1421</td>\n",
       "    </tr>\n",
       "    <tr>\n",
       "      <th>4</th>\n",
       "      <td>São Paulo</td>\n",
       "      <td>25</td>\n",
       "      <td>1</td>\n",
       "      <td>1</td>\n",
       "      <td>0</td>\n",
       "      <td>1</td>\n",
       "      <td>not acept</td>\n",
       "      <td>not furnished</td>\n",
       "      <td>0</td>\n",
       "      <td>800</td>\n",
       "      <td>25</td>\n",
       "      <td>11</td>\n",
       "      <td>836</td>\n",
       "    </tr>\n",
       "  </tbody>\n",
       "</table>\n",
       "</div>"
      ],
      "text/plain": [
       "           city  area  rooms  bathroom  parking spaces floor     animal      furniture  hoa (R$)  rent amount (R$)  property tax (R$)  fire insurance (R$)  total (R$)\n",
       "0     São Paulo    70      2         1               1     7      acept      furnished      2065              3300                211                   42        5618\n",
       "1     São Paulo   320      4         4               0    20      acept  not furnished      1200              4960               1750                   63        7973\n",
       "2  Porto Alegre    80      1         1               1     6      acept  not furnished      1000              2800                  0                   41        3841\n",
       "3  Porto Alegre    51      2         1               0     2      acept  not furnished       270              1112                 22                   17        1421\n",
       "4     São Paulo    25      1         1               0     1  not acept  not furnished         0               800                 25                   11         836"
      ]
     },
     "execution_count": 6,
     "metadata": {},
     "output_type": "execute_result"
    }
   ],
   "source": [
    "dados_raw = pd.read_csv('Dados/houses_to_rent_v2.csv')\n",
    "dados_raw.head()"
   ]
  },
  {
   "cell_type": "markdown",
   "id": "74e28c44",
   "metadata": {},
   "source": [
    "# Descrição dos dados"
   ]
  },
  {
   "cell_type": "code",
   "execution_count": 7,
   "id": "36ab2746",
   "metadata": {
    "ExecuteTime": {
     "end_time": "2021-10-27T10:01:29.220852Z",
     "start_time": "2021-10-27T10:01:29.217505Z"
    }
   },
   "outputs": [],
   "source": [
    "# copiando os dados\n",
    "dados1 = dados_raw.copy()"
   ]
  },
  {
   "cell_type": "markdown",
   "id": "a10f1fcb",
   "metadata": {},
   "source": [
    "## Renomeando as colunas"
   ]
  },
  {
   "cell_type": "code",
   "execution_count": 8,
   "id": "4dae123a",
   "metadata": {
    "ExecuteTime": {
     "end_time": "2021-10-27T10:01:29.311574Z",
     "start_time": "2021-10-27T10:01:29.304727Z"
    }
   },
   "outputs": [
    {
     "data": {
      "text/plain": [
       "Index(['city', 'area', 'rooms', 'bathroom', 'parking spaces', 'floor',\n",
       "       'animal', 'furniture', 'hoa (R$)', 'rent amount (R$)',\n",
       "       'property tax (R$)', 'fire insurance (R$)', 'total (R$)'],\n",
       "      dtype='object')"
      ]
     },
     "execution_count": 8,
     "metadata": {},
     "output_type": "execute_result"
    }
   ],
   "source": [
    "dados1.columns"
   ]
  },
  {
   "cell_type": "code",
   "execution_count": 9,
   "id": "a8ec9a9e",
   "metadata": {
    "ExecuteTime": {
     "end_time": "2021-10-27T10:01:29.371625Z",
     "start_time": "2021-10-27T10:01:29.367403Z"
    }
   },
   "outputs": [],
   "source": [
    "# renomeando as colunas\n",
    "dados1.columns = ['cidade', 'area', 'quartos', 'banheiros', \n",
    "                  'numero_vagas', 'andar', 'aceita_animais', 'mobilhada',\n",
    "                  'valor_condominio(R$)', 'valor_aluguel_(R$)', 'iptu_(R$)', \n",
    "                  'taxa_incendio_(R$)', 'valor_total_(R$)']"
   ]
  },
  {
   "cell_type": "code",
   "execution_count": 10,
   "id": "421f215a",
   "metadata": {
    "ExecuteTime": {
     "end_time": "2021-10-27T10:01:29.435115Z",
     "start_time": "2021-10-27T10:01:29.428823Z"
    }
   },
   "outputs": [
    {
     "data": {
      "text/plain": [
       "Index(['cidade', 'area', 'quartos', 'banheiros', 'numero_vagas', 'andar',\n",
       "       'aceita_animais', 'mobilhada', 'valor_condominio(R$)',\n",
       "       'valor_aluguel_(R$)', 'iptu_(R$)', 'taxa_incendio_(R$)',\n",
       "       'valor_total_(R$)'],\n",
       "      dtype='object')"
      ]
     },
     "execution_count": 10,
     "metadata": {},
     "output_type": "execute_result"
    }
   ],
   "source": [
    "dados1.columns"
   ]
  },
  {
   "cell_type": "markdown",
   "id": "22030f78",
   "metadata": {},
   "source": [
    "### Dicionário dos dados"
   ]
  },
  {
   "cell_type": "markdown",
   "id": "3ca9cc30",
   "metadata": {},
   "source": [
    "* **cidade**: Cidade onde a residência está situada.\n",
    "* **area**: Área do imóvel em metros quadrados.\n",
    "* **quartos**: Número de quartos.\n",
    "* **banheiros**: Número de banheiros.\n",
    "* **numero_vagas**: Número de vagas de estacionamento.\n",
    "* **andar**: Andar que a residência está situada.\n",
    "* **aceita_animais**: Indicador se aceita ou não animais.\n",
    "* **mobilhada**: Indicador se a casa é ou não mobilhada.\n",
    "* **valor_condominio_(R\\$)**: Valor do condomínio\n",
    "* **valor_aluguel_(R\\$)**: Valor do aluguel da residência.\n",
    "* **iptu_(R\\$)**: Valor do IPTU da residência.\n",
    "* **taxa_incendio_(R$)**: Valor da taxa de incêndio paga ao corpo de bombeiros.\n",
    "* **valor_total_(R\\$)**: Valor de todos os valores somados"
   ]
  },
  {
   "cell_type": "markdown",
   "id": "5a3e77fb",
   "metadata": {},
   "source": [
    "## Dimensões dos dados"
   ]
  },
  {
   "cell_type": "code",
   "execution_count": 11,
   "id": "5f41f2cd",
   "metadata": {
    "ExecuteTime": {
     "end_time": "2021-10-27T10:01:29.551918Z",
     "start_time": "2021-10-27T10:01:29.546862Z"
    }
   },
   "outputs": [
    {
     "name": "stdout",
     "output_type": "stream",
     "text": [
      "Número de linhas: 10692\n",
      "Número de colunas: 13\n"
     ]
    }
   ],
   "source": [
    "print(f'Número de linhas: {dados1.shape[0]}')\n",
    "print(f'Número de colunas: {dados1.shape[1]}')"
   ]
  },
  {
   "cell_type": "markdown",
   "id": "79476e90",
   "metadata": {},
   "source": [
    "## Tipos de dados"
   ]
  },
  {
   "cell_type": "code",
   "execution_count": 12,
   "id": "7f05c7a0",
   "metadata": {
    "ExecuteTime": {
     "end_time": "2021-10-27T10:01:29.640787Z",
     "start_time": "2021-10-27T10:01:29.632370Z"
    }
   },
   "outputs": [
    {
     "data": {
      "text/plain": [
       "cidade                  object\n",
       "area                     int64\n",
       "quartos                  int64\n",
       "banheiros                int64\n",
       "numero_vagas             int64\n",
       "andar                   object\n",
       "aceita_animais          object\n",
       "mobilhada               object\n",
       "valor_condominio(R$)     int64\n",
       "valor_aluguel_(R$)       int64\n",
       "iptu_(R$)                int64\n",
       "taxa_incendio_(R$)       int64\n",
       "valor_total_(R$)         int64\n",
       "dtype: object"
      ]
     },
     "execution_count": 12,
     "metadata": {},
     "output_type": "execute_result"
    }
   ],
   "source": [
    "dados1.dtypes"
   ]
  },
  {
   "cell_type": "markdown",
   "id": "53c37aa9",
   "metadata": {},
   "source": [
    "## Checando valores ausentes"
   ]
  },
  {
   "cell_type": "code",
   "execution_count": 13,
   "id": "405291ec",
   "metadata": {
    "ExecuteTime": {
     "end_time": "2021-10-27T10:01:29.726139Z",
     "start_time": "2021-10-27T10:01:29.713996Z"
    }
   },
   "outputs": [
    {
     "data": {
      "text/plain": [
       "cidade                  0\n",
       "area                    0\n",
       "quartos                 0\n",
       "banheiros               0\n",
       "numero_vagas            0\n",
       "andar                   0\n",
       "aceita_animais          0\n",
       "mobilhada               0\n",
       "valor_condominio(R$)    0\n",
       "valor_aluguel_(R$)      0\n",
       "iptu_(R$)               0\n",
       "taxa_incendio_(R$)      0\n",
       "valor_total_(R$)        0\n",
       "dtype: int64"
      ]
     },
     "execution_count": 13,
     "metadata": {},
     "output_type": "execute_result"
    }
   ],
   "source": [
    "dados1.isna().sum()"
   ]
  },
  {
   "cell_type": "markdown",
   "id": "1f8ce547",
   "metadata": {},
   "source": [
    "## Estatística Descritiva"
   ]
  },
  {
   "cell_type": "code",
   "execution_count": 14,
   "id": "29843472",
   "metadata": {
    "ExecuteTime": {
     "end_time": "2021-10-27T10:01:29.814983Z",
     "start_time": "2021-10-27T10:01:29.801897Z"
    }
   },
   "outputs": [],
   "source": [
    "dados1['mobilhada'] = dados1['mobilhada'].replace(['furnished', 'not furnished'],\n",
    "                                                  ['Sim', 'Não'])\n",
    "dados1['aceita_animais'] = dados1['aceita_animais'].replace(['acept', 'not acept'],\n",
    "                                                            ['Sim', 'Não'])"
   ]
  },
  {
   "cell_type": "code",
   "execution_count": 15,
   "id": "be096184",
   "metadata": {
    "ExecuteTime": {
     "end_time": "2021-10-27T10:01:29.884869Z",
     "start_time": "2021-10-27T10:01:29.872802Z"
    }
   },
   "outputs": [],
   "source": [
    "atributos_numericos = dados1.select_dtypes(include=['int64'])\n",
    "atributos_categoricos = dados1.select_dtypes(exclude=['int64'])"
   ]
  },
  {
   "cell_type": "markdown",
   "id": "087215e9",
   "metadata": {},
   "source": [
    "### Atributos Numéricos"
   ]
  },
  {
   "cell_type": "code",
   "execution_count": 16,
   "id": "1e43f198",
   "metadata": {
    "ExecuteTime": {
     "end_time": "2021-10-27T10:01:30.035081Z",
     "start_time": "2021-10-27T10:01:29.971996Z"
    }
   },
   "outputs": [
    {
     "data": {
      "text/html": [
       "<div>\n",
       "<style scoped>\n",
       "    .dataframe tbody tr th:only-of-type {\n",
       "        vertical-align: middle;\n",
       "    }\n",
       "\n",
       "    .dataframe tbody tr th {\n",
       "        vertical-align: top;\n",
       "    }\n",
       "\n",
       "    .dataframe thead th {\n",
       "        text-align: right;\n",
       "    }\n",
       "</style>\n",
       "<table border=\"1\" class=\"dataframe\">\n",
       "  <thead>\n",
       "    <tr style=\"text-align: right;\">\n",
       "      <th></th>\n",
       "      <th>Atributos</th>\n",
       "      <th>Mínimo</th>\n",
       "      <th>Máximo</th>\n",
       "      <th>Range</th>\n",
       "      <th>Média</th>\n",
       "      <th>Mediana</th>\n",
       "      <th>Desvio-Padrão</th>\n",
       "      <th>Assimetria</th>\n",
       "      <th>Curtose</th>\n",
       "    </tr>\n",
       "  </thead>\n",
       "  <tbody>\n",
       "    <tr>\n",
       "      <th>0</th>\n",
       "      <td>area</td>\n",
       "      <td>11.0</td>\n",
       "      <td>46335.0</td>\n",
       "      <td>46324.0</td>\n",
       "      <td>149.217920</td>\n",
       "      <td>90.0</td>\n",
       "      <td>536.991829</td>\n",
       "      <td>69.596804</td>\n",
       "      <td>5548.308334</td>\n",
       "    </tr>\n",
       "    <tr>\n",
       "      <th>1</th>\n",
       "      <td>quartos</td>\n",
       "      <td>1.0</td>\n",
       "      <td>13.0</td>\n",
       "      <td>12.0</td>\n",
       "      <td>2.506079</td>\n",
       "      <td>2.0</td>\n",
       "      <td>1.171211</td>\n",
       "      <td>0.702391</td>\n",
       "      <td>1.487659</td>\n",
       "    </tr>\n",
       "    <tr>\n",
       "      <th>2</th>\n",
       "      <td>banheiros</td>\n",
       "      <td>1.0</td>\n",
       "      <td>10.0</td>\n",
       "      <td>9.0</td>\n",
       "      <td>2.236813</td>\n",
       "      <td>2.0</td>\n",
       "      <td>1.407132</td>\n",
       "      <td>1.213810</td>\n",
       "      <td>1.134852</td>\n",
       "    </tr>\n",
       "    <tr>\n",
       "      <th>3</th>\n",
       "      <td>numero_vagas</td>\n",
       "      <td>0.0</td>\n",
       "      <td>12.0</td>\n",
       "      <td>12.0</td>\n",
       "      <td>1.609147</td>\n",
       "      <td>1.0</td>\n",
       "      <td>1.589446</td>\n",
       "      <td>1.487534</td>\n",
       "      <td>2.769075</td>\n",
       "    </tr>\n",
       "    <tr>\n",
       "      <th>4</th>\n",
       "      <td>valor_condominio(R$)</td>\n",
       "      <td>0.0</td>\n",
       "      <td>1117000.0</td>\n",
       "      <td>1117000.0</td>\n",
       "      <td>1174.021698</td>\n",
       "      <td>560.0</td>\n",
       "      <td>15591.576074</td>\n",
       "      <td>69.039381</td>\n",
       "      <td>4912.249106</td>\n",
       "    </tr>\n",
       "    <tr>\n",
       "      <th>5</th>\n",
       "      <td>valor_aluguel_(R$)</td>\n",
       "      <td>450.0</td>\n",
       "      <td>45000.0</td>\n",
       "      <td>44550.0</td>\n",
       "      <td>3896.247194</td>\n",
       "      <td>2661.0</td>\n",
       "      <td>3408.386117</td>\n",
       "      <td>1.838877</td>\n",
       "      <td>4.624228</td>\n",
       "    </tr>\n",
       "    <tr>\n",
       "      <th>6</th>\n",
       "      <td>iptu_(R$)</td>\n",
       "      <td>0.0</td>\n",
       "      <td>313700.0</td>\n",
       "      <td>313700.0</td>\n",
       "      <td>366.704358</td>\n",
       "      <td>125.0</td>\n",
       "      <td>3107.686983</td>\n",
       "      <td>96.013594</td>\n",
       "      <td>9667.782564</td>\n",
       "    </tr>\n",
       "    <tr>\n",
       "      <th>7</th>\n",
       "      <td>taxa_incendio_(R$)</td>\n",
       "      <td>3.0</td>\n",
       "      <td>677.0</td>\n",
       "      <td>674.0</td>\n",
       "      <td>53.300879</td>\n",
       "      <td>36.0</td>\n",
       "      <td>47.765797</td>\n",
       "      <td>1.970400</td>\n",
       "      <td>5.934963</td>\n",
       "    </tr>\n",
       "    <tr>\n",
       "      <th>8</th>\n",
       "      <td>valor_total_(R$)</td>\n",
       "      <td>499.0</td>\n",
       "      <td>1120000.0</td>\n",
       "      <td>1119501.0</td>\n",
       "      <td>5490.487000</td>\n",
       "      <td>3581.5</td>\n",
       "      <td>16483.955004</td>\n",
       "      <td>58.960803</td>\n",
       "      <td>3926.019305</td>\n",
       "    </tr>\n",
       "  </tbody>\n",
       "</table>\n",
       "</div>"
      ],
      "text/plain": [
       "              Atributos  Mínimo     Máximo      Range        Média  Mediana  Desvio-Padrão  Assimetria      Curtose\n",
       "0                  area    11.0    46335.0    46324.0   149.217920     90.0     536.991829   69.596804  5548.308334\n",
       "1               quartos     1.0       13.0       12.0     2.506079      2.0       1.171211    0.702391     1.487659\n",
       "2             banheiros     1.0       10.0        9.0     2.236813      2.0       1.407132    1.213810     1.134852\n",
       "3          numero_vagas     0.0       12.0       12.0     1.609147      1.0       1.589446    1.487534     2.769075\n",
       "4  valor_condominio(R$)     0.0  1117000.0  1117000.0  1174.021698    560.0   15591.576074   69.039381  4912.249106\n",
       "5    valor_aluguel_(R$)   450.0    45000.0    44550.0  3896.247194   2661.0    3408.386117    1.838877     4.624228\n",
       "6             iptu_(R$)     0.0   313700.0   313700.0   366.704358    125.0    3107.686983   96.013594  9667.782564\n",
       "7    taxa_incendio_(R$)     3.0      677.0      674.0    53.300879     36.0      47.765797    1.970400     5.934963\n",
       "8      valor_total_(R$)   499.0  1120000.0  1119501.0  5490.487000   3581.5   16483.955004   58.960803  3926.019305"
      ]
     },
     "execution_count": 16,
     "metadata": {},
     "output_type": "execute_result"
    }
   ],
   "source": [
    "# métricas de tendência central\n",
    "media = pd.DataFrame(atributos_numericos.apply(np.mean)).T # média\n",
    "mediana = pd.DataFrame(atributos_numericos.apply(np.median)).T # mediana\n",
    "\n",
    "# métricas de dispersão\n",
    "std = pd.DataFrame(atributos_numericos.apply(np.std)).T # desvio-padrão\n",
    "minimo = pd.DataFrame(atributos_numericos.apply(min)).T # valor mínimo\n",
    "maximo = pd.DataFrame(atributos_numericos.apply(max)).T # valor máximo\n",
    "range_ = pd.DataFrame(atributos_numericos.apply(lambda x: x.max() - x.min())).T # range\n",
    "assimetria = pd.DataFrame(atributos_numericos.apply(lambda x: x.skew())).T # assimetria\n",
    "curtose = pd.DataFrame(atributos_numericos.apply(lambda x: x.kurtosis())).T # curtose\n",
    "\n",
    "# concatenar as métricas\n",
    "metricas = pd.concat([minimo, maximo, range_, media, mediana, std, assimetria,\n",
    "                      curtose]).T.reset_index()\n",
    "\n",
    "# nomear as colunas dos atributos concatenados\n",
    "metricas.columns = ['Atributos', 'Mínimo', 'Máximo', 'Range', 'Média', 'Mediana', 'Desvio-Padrão',\n",
    "                    'Assimetria', 'Curtose']\n",
    "metricas"
   ]
  },
  {
   "cell_type": "markdown",
   "id": "5ca0f273",
   "metadata": {},
   "source": [
    "### Atributos categóricos"
   ]
  },
  {
   "cell_type": "code",
   "execution_count": 17,
   "id": "c05e1a1f",
   "metadata": {
    "ExecuteTime": {
     "end_time": "2021-10-27T10:01:30.116291Z",
     "start_time": "2021-10-27T10:01:30.102104Z"
    }
   },
   "outputs": [
    {
     "data": {
      "text/plain": [
       "cidade             5\n",
       "andar             35\n",
       "aceita_animais     2\n",
       "mobilhada          2\n",
       "dtype: int64"
      ]
     },
     "execution_count": 17,
     "metadata": {},
     "output_type": "execute_result"
    }
   ],
   "source": [
    "# ver quantas categorias temos por variáveis\n",
    "atributos_categoricos.apply(lambda x: x.unique().shape[0])"
   ]
  },
  {
   "cell_type": "code",
   "execution_count": 18,
   "id": "b004d662",
   "metadata": {
    "ExecuteTime": {
     "end_time": "2021-10-27T10:01:30.729297Z",
     "start_time": "2021-10-27T10:01:30.172564Z"
    }
   },
   "outputs": [
    {
     "data": {
      "text/plain": [
       "<AxesSubplot:xlabel='mobilhada', ylabel='valor_aluguel_(R$)'>"
      ]
     },
     "execution_count": 18,
     "metadata": {},
     "output_type": "execute_result"
    },
    {
     "data": {
      "image/png": "[encoded data removed]",
      "text/plain": [
       "<Figure size 1800x864 with 3 Axes>"
      ]
     },
     "metadata": {},
     "output_type": "display_data"
    }
   ],
   "source": [
    "# cidade\n",
    "plt.subplot(1, 3, 1)\n",
    "sns.boxplot(x='cidade', y='valor_aluguel_(R$)', data=dados1)\n",
    "plt.ylim(0, 15000)\n",
    "plt.xticks(rotation=45);\n",
    "\n",
    "# aceita_animais\n",
    "plt.subplot(1, 3, 2)\n",
    "sns.boxplot(x='aceita_animais', y='valor_aluguel_(R$)', data=dados1)\n",
    "\n",
    "# mobilhada\n",
    "plt.subplot(1, 3, 3)\n",
    "sns.boxplot(x='mobilhada', y='valor_aluguel_(R$)', data=dados1)"
   ]
  },
  {
   "cell_type": "code",
   "execution_count": 19,
   "id": "1faffb53",
   "metadata": {
    "ExecuteTime": {
     "end_time": "2021-10-27T10:01:30.746576Z",
     "start_time": "2021-10-27T10:01:30.731039Z"
    }
   },
   "outputs": [
    {
     "data": {
      "text/html": [
       "<div>\n",
       "<style scoped>\n",
       "    .dataframe tbody tr th:only-of-type {\n",
       "        vertical-align: middle;\n",
       "    }\n",
       "\n",
       "    .dataframe tbody tr th {\n",
       "        vertical-align: top;\n",
       "    }\n",
       "\n",
       "    .dataframe thead th {\n",
       "        text-align: right;\n",
       "    }\n",
       "</style>\n",
       "<table border=\"1\" class=\"dataframe\">\n",
       "  <thead>\n",
       "    <tr style=\"text-align: right;\">\n",
       "      <th></th>\n",
       "      <th>cidade</th>\n",
       "      <th>area</th>\n",
       "      <th>quartos</th>\n",
       "      <th>banheiros</th>\n",
       "      <th>numero_vagas</th>\n",
       "      <th>andar</th>\n",
       "      <th>aceita_animais</th>\n",
       "      <th>mobilhada</th>\n",
       "      <th>valor_condominio(R$)</th>\n",
       "      <th>valor_aluguel_(R$)</th>\n",
       "      <th>iptu_(R$)</th>\n",
       "      <th>taxa_incendio_(R$)</th>\n",
       "      <th>valor_total_(R$)</th>\n",
       "    </tr>\n",
       "  </thead>\n",
       "  <tbody>\n",
       "    <tr>\n",
       "      <th>0</th>\n",
       "      <td>São Paulo</td>\n",
       "      <td>70</td>\n",
       "      <td>2</td>\n",
       "      <td>1</td>\n",
       "      <td>1</td>\n",
       "      <td>7</td>\n",
       "      <td>Sim</td>\n",
       "      <td>Sim</td>\n",
       "      <td>2065</td>\n",
       "      <td>3300</td>\n",
       "      <td>211</td>\n",
       "      <td>42</td>\n",
       "      <td>5618</td>\n",
       "    </tr>\n",
       "    <tr>\n",
       "      <th>1</th>\n",
       "      <td>São Paulo</td>\n",
       "      <td>320</td>\n",
       "      <td>4</td>\n",
       "      <td>4</td>\n",
       "      <td>0</td>\n",
       "      <td>20</td>\n",
       "      <td>Sim</td>\n",
       "      <td>Não</td>\n",
       "      <td>1200</td>\n",
       "      <td>4960</td>\n",
       "      <td>1750</td>\n",
       "      <td>63</td>\n",
       "      <td>7973</td>\n",
       "    </tr>\n",
       "    <tr>\n",
       "      <th>2</th>\n",
       "      <td>Porto Alegre</td>\n",
       "      <td>80</td>\n",
       "      <td>1</td>\n",
       "      <td>1</td>\n",
       "      <td>1</td>\n",
       "      <td>6</td>\n",
       "      <td>Sim</td>\n",
       "      <td>Não</td>\n",
       "      <td>1000</td>\n",
       "      <td>2800</td>\n",
       "      <td>0</td>\n",
       "      <td>41</td>\n",
       "      <td>3841</td>\n",
       "    </tr>\n",
       "    <tr>\n",
       "      <th>3</th>\n",
       "      <td>Porto Alegre</td>\n",
       "      <td>51</td>\n",
       "      <td>2</td>\n",
       "      <td>1</td>\n",
       "      <td>0</td>\n",
       "      <td>2</td>\n",
       "      <td>Sim</td>\n",
       "      <td>Não</td>\n",
       "      <td>270</td>\n",
       "      <td>1112</td>\n",
       "      <td>22</td>\n",
       "      <td>17</td>\n",
       "      <td>1421</td>\n",
       "    </tr>\n",
       "    <tr>\n",
       "      <th>4</th>\n",
       "      <td>São Paulo</td>\n",
       "      <td>25</td>\n",
       "      <td>1</td>\n",
       "      <td>1</td>\n",
       "      <td>0</td>\n",
       "      <td>1</td>\n",
       "      <td>Não</td>\n",
       "      <td>Não</td>\n",
       "      <td>0</td>\n",
       "      <td>800</td>\n",
       "      <td>25</td>\n",
       "      <td>11</td>\n",
       "      <td>836</td>\n",
       "    </tr>\n",
       "  </tbody>\n",
       "</table>\n",
       "</div>"
      ],
      "text/plain": [
       "         cidade  area  quartos  banheiros  numero_vagas andar aceita_animais mobilhada  valor_condominio(R$)  valor_aluguel_(R$)  iptu_(R$)  taxa_incendio_(R$)  valor_total_(R$)\n",
       "0     São Paulo    70        2          1             1     7            Sim       Sim                  2065                3300        211                  42              5618\n",
       "1     São Paulo   320        4          4             0    20            Sim       Não                  1200                4960       1750                  63              7973\n",
       "2  Porto Alegre    80        1          1             1     6            Sim       Não                  1000                2800          0                  41              3841\n",
       "3  Porto Alegre    51        2          1             0     2            Sim       Não                   270                1112         22                  17              1421\n",
       "4     São Paulo    25        1          1             0     1            Não       Não                     0                 800         25                  11               836"
      ]
     },
     "execution_count": 19,
     "metadata": {},
     "output_type": "execute_result"
    }
   ],
   "source": [
    "dados1.head()"
   ]
  },
  {
   "cell_type": "markdown",
   "id": "493dd6ff",
   "metadata": {},
   "source": [
    "# Filtragem de variáveis"
   ]
  },
  {
   "cell_type": "markdown",
   "id": "f1a2e807",
   "metadata": {},
   "source": [
    "O foco desse estudo será prever apenas o preço do aluguel, então excluiremos de nossos dados as colunas referentes a todos os valores, exceto o preço do aluguel."
   ]
  },
  {
   "cell_type": "code",
   "execution_count": 20,
   "id": "b1c2bc0c",
   "metadata": {
    "ExecuteTime": {
     "end_time": "2021-10-27T10:01:30.752971Z",
     "start_time": "2021-10-27T10:01:30.748835Z"
    }
   },
   "outputs": [],
   "source": [
    "dados2 = dados1.copy()"
   ]
  },
  {
   "cell_type": "markdown",
   "id": "46a7e202",
   "metadata": {},
   "source": [
    "## Seleção das colunas"
   ]
  },
  {
   "cell_type": "code",
   "execution_count": 21,
   "id": "26bc06b4",
   "metadata": {
    "ExecuteTime": {
     "end_time": "2021-10-27T10:01:30.769255Z",
     "start_time": "2021-10-27T10:01:30.756013Z"
    }
   },
   "outputs": [
    {
     "data": {
      "text/html": [
       "<div>\n",
       "<style scoped>\n",
       "    .dataframe tbody tr th:only-of-type {\n",
       "        vertical-align: middle;\n",
       "    }\n",
       "\n",
       "    .dataframe tbody tr th {\n",
       "        vertical-align: top;\n",
       "    }\n",
       "\n",
       "    .dataframe thead th {\n",
       "        text-align: right;\n",
       "    }\n",
       "</style>\n",
       "<table border=\"1\" class=\"dataframe\">\n",
       "  <thead>\n",
       "    <tr style=\"text-align: right;\">\n",
       "      <th></th>\n",
       "      <th>cidade</th>\n",
       "      <th>area</th>\n",
       "      <th>quartos</th>\n",
       "      <th>banheiros</th>\n",
       "      <th>numero_vagas</th>\n",
       "      <th>andar</th>\n",
       "      <th>aceita_animais</th>\n",
       "      <th>mobilhada</th>\n",
       "      <th>valor_aluguel_(R$)</th>\n",
       "    </tr>\n",
       "  </thead>\n",
       "  <tbody>\n",
       "    <tr>\n",
       "      <th>0</th>\n",
       "      <td>São Paulo</td>\n",
       "      <td>70</td>\n",
       "      <td>2</td>\n",
       "      <td>1</td>\n",
       "      <td>1</td>\n",
       "      <td>7</td>\n",
       "      <td>Sim</td>\n",
       "      <td>Sim</td>\n",
       "      <td>3300</td>\n",
       "    </tr>\n",
       "    <tr>\n",
       "      <th>1</th>\n",
       "      <td>São Paulo</td>\n",
       "      <td>320</td>\n",
       "      <td>4</td>\n",
       "      <td>4</td>\n",
       "      <td>0</td>\n",
       "      <td>20</td>\n",
       "      <td>Sim</td>\n",
       "      <td>Não</td>\n",
       "      <td>4960</td>\n",
       "    </tr>\n",
       "    <tr>\n",
       "      <th>2</th>\n",
       "      <td>Porto Alegre</td>\n",
       "      <td>80</td>\n",
       "      <td>1</td>\n",
       "      <td>1</td>\n",
       "      <td>1</td>\n",
       "      <td>6</td>\n",
       "      <td>Sim</td>\n",
       "      <td>Não</td>\n",
       "      <td>2800</td>\n",
       "    </tr>\n",
       "    <tr>\n",
       "      <th>3</th>\n",
       "      <td>Porto Alegre</td>\n",
       "      <td>51</td>\n",
       "      <td>2</td>\n",
       "      <td>1</td>\n",
       "      <td>0</td>\n",
       "      <td>2</td>\n",
       "      <td>Sim</td>\n",
       "      <td>Não</td>\n",
       "      <td>1112</td>\n",
       "    </tr>\n",
       "    <tr>\n",
       "      <th>4</th>\n",
       "      <td>São Paulo</td>\n",
       "      <td>25</td>\n",
       "      <td>1</td>\n",
       "      <td>1</td>\n",
       "      <td>0</td>\n",
       "      <td>1</td>\n",
       "      <td>Não</td>\n",
       "      <td>Não</td>\n",
       "      <td>800</td>\n",
       "    </tr>\n",
       "  </tbody>\n",
       "</table>\n",
       "</div>"
      ],
      "text/plain": [
       "         cidade  area  quartos  banheiros  numero_vagas andar aceita_animais mobilhada  valor_aluguel_(R$)\n",
       "0     São Paulo    70        2          1             1     7            Sim       Sim                3300\n",
       "1     São Paulo   320        4          4             0    20            Sim       Não                4960\n",
       "2  Porto Alegre    80        1          1             1     6            Sim       Não                2800\n",
       "3  Porto Alegre    51        2          1             0     2            Sim       Não                1112\n",
       "4     São Paulo    25        1          1             0     1            Não       Não                 800"
      ]
     },
     "execution_count": 21,
     "metadata": {},
     "output_type": "execute_result"
    }
   ],
   "source": [
    "cols_drop = ['valor_condominio(R$)', 'iptu_(R$)', 'taxa_incendio_(R$)',\n",
    "             'valor_total_(R$)']\n",
    "dados2 = dados2.drop(cols_drop, axis=1)\n",
    "dados2.head()"
   ]
  },
  {
   "cell_type": "markdown",
   "id": "3379b7eb",
   "metadata": {},
   "source": [
    "# Análise exploratória dos dados"
   ]
  },
  {
   "cell_type": "code",
   "execution_count": 22,
   "id": "6d5bb0da",
   "metadata": {
    "ExecuteTime": {
     "end_time": "2021-10-27T10:01:30.774162Z",
     "start_time": "2021-10-27T10:01:30.771059Z"
    }
   },
   "outputs": [],
   "source": [
    "dados3 = dados2.copy()"
   ]
  },
  {
   "cell_type": "markdown",
   "id": "898353fd",
   "metadata": {},
   "source": [
    "O objetivo da análise exploratória dos dados é verificar como as variáveis impactam o fenômeno, em nosso caso como todas as variáveis impactaram no preço do aluguel. Podemos dividir como os principais objetivos:\n",
    "1. **Ganhar experiência do dados**: Entendo como eles se relacionam, fica mais fácil gerar decisões acertadas;\n",
    "2. **Validar hipóteses**: Validar hipóteses criadas nessa fase inicial dos dados.\n",
    "3. **Perceber variáveis importantes para o modelo**: Isso faz com que a criação do modelo seja mais acertada, evitando erros cometidos por falta de conhecimento do negócio.\n",
    "\n",
    "A análise exploratória dos dados é dividida em 3 tipos de análises:\n",
    "1. **Análise univariada**: Como é essa variável?\n",
    "2. **Análise bivariada**: Como essa variável impacta na variável resposta (preço do aluguel)?\n",
    "3. **Análise multivariada**: Como as variáveis se relacionam?"
   ]
  },
  {
   "cell_type": "markdown",
   "id": "53456320",
   "metadata": {},
   "source": [
    "## Análise Univariada"
   ]
  },
  {
   "cell_type": "markdown",
   "id": "1b9252dc",
   "metadata": {},
   "source": [
    "### Variável resposta"
   ]
  },
  {
   "cell_type": "code",
   "execution_count": 23,
   "id": "6d3a5832",
   "metadata": {
    "ExecuteTime": {
     "end_time": "2021-10-27T10:01:31.153696Z",
     "start_time": "2021-10-27T10:01:30.776182Z"
    }
   },
   "outputs": [
    {
     "name": "stderr",
     "output_type": "stream",
     "text": [
      "/home/fhfraga/anaconda3/lib/python3.8/site-packages/seaborn/distributions.py:2557: FutureWarning: `distplot` is a deprecated function and will be removed in a future version. Please adapt your code to use either `displot` (a figure-level function with similar flexibility) or `histplot` (an axes-level function for histograms).\n",
      "  warnings.warn(msg, FutureWarning)\n"
     ]
    },
    {
     "data": {
      "text/plain": [
       "<AxesSubplot:xlabel='valor_aluguel_(R$)', ylabel='Density'>"
      ]
     },
     "execution_count": 23,
     "metadata": {},
     "output_type": "execute_result"
    },
    {
     "data": {
      "image/png": "[encoded data removed]",
      "text/plain": [
       "<Figure size 1800x864 with 1 Axes>"
      ]
     },
     "metadata": {},
     "output_type": "display_data"
    }
   ],
   "source": [
    "sns.distplot(dados3['valor_aluguel_(R$)'])"
   ]
  },
  {
   "cell_type": "markdown",
   "id": "66fce12f",
   "metadata": {},
   "source": [
    "### Variável númerica"
   ]
  },
  {
   "cell_type": "markdown",
   "id": "95dd12b3",
   "metadata": {},
   "source": [
    "Como houve exclusão de algumas variáveis, rodarei o código de criação de atributos numericos e categóricos."
   ]
  },
  {
   "cell_type": "code",
   "execution_count": 24,
   "id": "598e923d",
   "metadata": {
    "ExecuteTime": {
     "end_time": "2021-10-27T10:01:31.161263Z",
     "start_time": "2021-10-27T10:01:31.155490Z"
    }
   },
   "outputs": [],
   "source": [
    "atributos_numericos = dados3.select_dtypes(include=['int64'])\n",
    "atributos_categoricos = dados3.select_dtypes(exclude=['int64'])"
   ]
  },
  {
   "cell_type": "code",
   "execution_count": 25,
   "id": "ed49b837",
   "metadata": {
    "ExecuteTime": {
     "end_time": "2021-10-27T10:01:31.176610Z",
     "start_time": "2021-10-27T10:01:31.163397Z"
    }
   },
   "outputs": [
    {
     "data": {
      "text/html": [
       "<div>\n",
       "<style scoped>\n",
       "    .dataframe tbody tr th:only-of-type {\n",
       "        vertical-align: middle;\n",
       "    }\n",
       "\n",
       "    .dataframe tbody tr th {\n",
       "        vertical-align: top;\n",
       "    }\n",
       "\n",
       "    .dataframe thead th {\n",
       "        text-align: right;\n",
       "    }\n",
       "</style>\n",
       "<table border=\"1\" class=\"dataframe\">\n",
       "  <thead>\n",
       "    <tr style=\"text-align: right;\">\n",
       "      <th></th>\n",
       "      <th>0</th>\n",
       "      <th>1</th>\n",
       "      <th>2</th>\n",
       "      <th>3</th>\n",
       "      <th>4</th>\n",
       "      <th>5</th>\n",
       "      <th>6</th>\n",
       "      <th>7</th>\n",
       "      <th>8</th>\n",
       "      <th>9</th>\n",
       "      <th>10</th>\n",
       "      <th>11</th>\n",
       "      <th>12</th>\n",
       "      <th>13</th>\n",
       "      <th>14</th>\n",
       "    </tr>\n",
       "  </thead>\n",
       "  <tbody>\n",
       "    <tr>\n",
       "      <th>area</th>\n",
       "      <td>70</td>\n",
       "      <td>320</td>\n",
       "      <td>80</td>\n",
       "      <td>51</td>\n",
       "      <td>25</td>\n",
       "      <td>376</td>\n",
       "      <td>72</td>\n",
       "      <td>213</td>\n",
       "      <td>152</td>\n",
       "      <td>35</td>\n",
       "      <td>26</td>\n",
       "      <td>46</td>\n",
       "      <td>36</td>\n",
       "      <td>55</td>\n",
       "      <td>100</td>\n",
       "    </tr>\n",
       "    <tr>\n",
       "      <th>quartos</th>\n",
       "      <td>2</td>\n",
       "      <td>4</td>\n",
       "      <td>1</td>\n",
       "      <td>2</td>\n",
       "      <td>1</td>\n",
       "      <td>3</td>\n",
       "      <td>2</td>\n",
       "      <td>4</td>\n",
       "      <td>2</td>\n",
       "      <td>1</td>\n",
       "      <td>1</td>\n",
       "      <td>1</td>\n",
       "      <td>1</td>\n",
       "      <td>1</td>\n",
       "      <td>2</td>\n",
       "    </tr>\n",
       "    <tr>\n",
       "      <th>banheiros</th>\n",
       "      <td>1</td>\n",
       "      <td>4</td>\n",
       "      <td>1</td>\n",
       "      <td>1</td>\n",
       "      <td>1</td>\n",
       "      <td>3</td>\n",
       "      <td>1</td>\n",
       "      <td>4</td>\n",
       "      <td>2</td>\n",
       "      <td>1</td>\n",
       "      <td>1</td>\n",
       "      <td>1</td>\n",
       "      <td>1</td>\n",
       "      <td>1</td>\n",
       "      <td>2</td>\n",
       "    </tr>\n",
       "    <tr>\n",
       "      <th>numero_vagas</th>\n",
       "      <td>1</td>\n",
       "      <td>0</td>\n",
       "      <td>1</td>\n",
       "      <td>0</td>\n",
       "      <td>0</td>\n",
       "      <td>7</td>\n",
       "      <td>0</td>\n",
       "      <td>4</td>\n",
       "      <td>1</td>\n",
       "      <td>0</td>\n",
       "      <td>0</td>\n",
       "      <td>1</td>\n",
       "      <td>0</td>\n",
       "      <td>1</td>\n",
       "      <td>2</td>\n",
       "    </tr>\n",
       "    <tr>\n",
       "      <th>valor_aluguel_(R$)</th>\n",
       "      <td>3300</td>\n",
       "      <td>4960</td>\n",
       "      <td>2800</td>\n",
       "      <td>1112</td>\n",
       "      <td>800</td>\n",
       "      <td>8000</td>\n",
       "      <td>1900</td>\n",
       "      <td>3223</td>\n",
       "      <td>15000</td>\n",
       "      <td>2300</td>\n",
       "      <td>2100</td>\n",
       "      <td>580</td>\n",
       "      <td>2100</td>\n",
       "      <td>4200</td>\n",
       "      <td>4370</td>\n",
       "    </tr>\n",
       "  </tbody>\n",
       "</table>\n",
       "</div>"
      ],
      "text/plain": [
       "                      0     1     2     3    4     5     6     7      8     9     10   11    12    13    14\n",
       "area                  70   320    80    51   25   376    72   213    152    35    26   46    36    55   100\n",
       "quartos                2     4     1     2    1     3     2     4      2     1     1    1     1     1     2\n",
       "banheiros              1     4     1     1    1     3     1     4      2     1     1    1     1     1     2\n",
       "numero_vagas           1     0     1     0    0     7     0     4      1     0     0    1     0     1     2\n",
       "valor_aluguel_(R$)  3300  4960  2800  1112  800  8000  1900  3223  15000  2300  2100  580  2100  4200  4370"
      ]
     },
     "execution_count": 25,
     "metadata": {},
     "output_type": "execute_result"
    }
   ],
   "source": [
    "atributos_numericos.head(15).T"
   ]
  },
  {
   "cell_type": "code",
   "execution_count": 26,
   "id": "d38ecadb",
   "metadata": {
    "ExecuteTime": {
     "end_time": "2021-10-27T10:01:32.098866Z",
     "start_time": "2021-10-27T10:01:31.178944Z"
    }
   },
   "outputs": [
    {
     "data": {
      "image/png": "[encoded data removed]",
      "text/plain": [
       "<Figure size 1008x720 with 6 Axes>"
      ]
     },
     "metadata": {},
     "output_type": "display_data"
    }
   ],
   "source": [
    "atributos_numericos.hist(bins=25, figsize=(14, 10));"
   ]
  },
  {
   "cell_type": "markdown",
   "id": "919ad179",
   "metadata": {},
   "source": [
    "Com a análise univariada chegamos a conclusão que a maioria das residências tem 3 quartos, 1 banheiro, 1 vaga de garagem, os valores de aluguel estão próximos de 0, o que nos indica alugueis baixos."
   ]
  },
  {
   "cell_type": "markdown",
   "id": "40e69129",
   "metadata": {},
   "source": [
    "### Variável categórica"
   ]
  },
  {
   "cell_type": "code",
   "execution_count": 27,
   "id": "997433e6",
   "metadata": {
    "ExecuteTime": {
     "end_time": "2021-10-27T10:01:32.126295Z",
     "start_time": "2021-10-27T10:01:32.101604Z"
    }
   },
   "outputs": [
    {
     "data": {
      "text/html": [
       "<div>\n",
       "<style scoped>\n",
       "    .dataframe tbody tr th:only-of-type {\n",
       "        vertical-align: middle;\n",
       "    }\n",
       "\n",
       "    .dataframe tbody tr th {\n",
       "        vertical-align: top;\n",
       "    }\n",
       "\n",
       "    .dataframe thead th {\n",
       "        text-align: right;\n",
       "    }\n",
       "</style>\n",
       "<table border=\"1\" class=\"dataframe\">\n",
       "  <thead>\n",
       "    <tr style=\"text-align: right;\">\n",
       "      <th></th>\n",
       "      <th>0</th>\n",
       "      <th>1</th>\n",
       "      <th>2</th>\n",
       "      <th>3</th>\n",
       "      <th>4</th>\n",
       "      <th>5</th>\n",
       "      <th>6</th>\n",
       "      <th>7</th>\n",
       "      <th>8</th>\n",
       "      <th>9</th>\n",
       "      <th>10</th>\n",
       "      <th>11</th>\n",
       "      <th>12</th>\n",
       "      <th>13</th>\n",
       "      <th>14</th>\n",
       "    </tr>\n",
       "  </thead>\n",
       "  <tbody>\n",
       "    <tr>\n",
       "      <th>cidade</th>\n",
       "      <td>São Paulo</td>\n",
       "      <td>São Paulo</td>\n",
       "      <td>Porto Alegre</td>\n",
       "      <td>Porto Alegre</td>\n",
       "      <td>São Paulo</td>\n",
       "      <td>São Paulo</td>\n",
       "      <td>Rio de Janeiro</td>\n",
       "      <td>São Paulo</td>\n",
       "      <td>São Paulo</td>\n",
       "      <td>Rio de Janeiro</td>\n",
       "      <td>São Paulo</td>\n",
       "      <td>Campinas</td>\n",
       "      <td>São Paulo</td>\n",
       "      <td>São Paulo</td>\n",
       "      <td>São Paulo</td>\n",
       "    </tr>\n",
       "    <tr>\n",
       "      <th>andar</th>\n",
       "      <td>7</td>\n",
       "      <td>20</td>\n",
       "      <td>6</td>\n",
       "      <td>2</td>\n",
       "      <td>1</td>\n",
       "      <td>-</td>\n",
       "      <td>7</td>\n",
       "      <td>4</td>\n",
       "      <td>3</td>\n",
       "      <td>2</td>\n",
       "      <td>2</td>\n",
       "      <td>10</td>\n",
       "      <td>11</td>\n",
       "      <td>2</td>\n",
       "      <td>24</td>\n",
       "    </tr>\n",
       "    <tr>\n",
       "      <th>aceita_animais</th>\n",
       "      <td>Sim</td>\n",
       "      <td>Sim</td>\n",
       "      <td>Sim</td>\n",
       "      <td>Sim</td>\n",
       "      <td>Não</td>\n",
       "      <td>Sim</td>\n",
       "      <td>Sim</td>\n",
       "      <td>Sim</td>\n",
       "      <td>Sim</td>\n",
       "      <td>Sim</td>\n",
       "      <td>Sim</td>\n",
       "      <td>Sim</td>\n",
       "      <td>Sim</td>\n",
       "      <td>Sim</td>\n",
       "      <td>Sim</td>\n",
       "    </tr>\n",
       "    <tr>\n",
       "      <th>mobilhada</th>\n",
       "      <td>Sim</td>\n",
       "      <td>Não</td>\n",
       "      <td>Não</td>\n",
       "      <td>Não</td>\n",
       "      <td>Não</td>\n",
       "      <td>Não</td>\n",
       "      <td>Não</td>\n",
       "      <td>Não</td>\n",
       "      <td>Sim</td>\n",
       "      <td>Sim</td>\n",
       "      <td>Sim</td>\n",
       "      <td>Não</td>\n",
       "      <td>Não</td>\n",
       "      <td>Sim</td>\n",
       "      <td>Sim</td>\n",
       "    </tr>\n",
       "  </tbody>\n",
       "</table>\n",
       "</div>"
      ],
      "text/plain": [
       "                       0          1             2             3          4          5               6          7          8               9          10        11         12         13         14\n",
       "cidade          São Paulo  São Paulo  Porto Alegre  Porto Alegre  São Paulo  São Paulo  Rio de Janeiro  São Paulo  São Paulo  Rio de Janeiro  São Paulo  Campinas  São Paulo  São Paulo  São Paulo\n",
       "andar                   7         20             6             2          1          -               7          4          3               2          2        10         11          2         24\n",
       "aceita_animais        Sim        Sim           Sim           Sim        Não        Sim             Sim        Sim        Sim             Sim        Sim       Sim        Sim        Sim        Sim\n",
       "mobilhada             Sim        Não           Não           Não        Não        Não             Não        Não        Sim             Sim        Sim       Não        Não        Sim        Sim"
      ]
     },
     "execution_count": 27,
     "metadata": {},
     "output_type": "execute_result"
    }
   ],
   "source": [
    "atributos_categoricos.head(15).T"
   ]
  },
  {
   "cell_type": "markdown",
   "id": "49b4f17b",
   "metadata": {
    "ExecuteTime": {
     "end_time": "2021-10-26T19:00:24.370933Z",
     "start_time": "2021-10-26T19:00:21.651388Z"
    }
   },
   "source": [
    "Vemos que em andar temos alguns valores representados por `-`. Mudaremos esse valor para 0, como representação de que não tem andar, já que predios com andares chamam os andares iniciais de primeiro andar, representado em nossos dados por 1."
   ]
  },
  {
   "cell_type": "code",
   "execution_count": 28,
   "id": "4ba44d69",
   "metadata": {
    "ExecuteTime": {
     "end_time": "2021-10-27T10:01:32.133763Z",
     "start_time": "2021-10-27T10:01:32.128913Z"
    }
   },
   "outputs": [],
   "source": [
    "dados3['andar'] = dados3['andar'].replace('-', 0)"
   ]
  },
  {
   "cell_type": "code",
   "execution_count": 29,
   "id": "7f0743d5",
   "metadata": {
    "ExecuteTime": {
     "end_time": "2021-10-27T10:01:32.143583Z",
     "start_time": "2021-10-27T10:01:32.136775Z"
    }
   },
   "outputs": [],
   "source": [
    "# atualizando os atributos categóricos\n",
    "atributos_categoricos = dados3.select_dtypes(exclude=['int64'])"
   ]
  },
  {
   "cell_type": "code",
   "execution_count": 30,
   "id": "f76ca4dc",
   "metadata": {
    "ExecuteTime": {
     "end_time": "2021-10-27T10:01:32.161297Z",
     "start_time": "2021-10-27T10:01:32.145672Z"
    },
    "scrolled": true
   },
   "outputs": [
    {
     "data": {
      "text/html": [
       "<div>\n",
       "<style scoped>\n",
       "    .dataframe tbody tr th:only-of-type {\n",
       "        vertical-align: middle;\n",
       "    }\n",
       "\n",
       "    .dataframe tbody tr th {\n",
       "        vertical-align: top;\n",
       "    }\n",
       "\n",
       "    .dataframe thead th {\n",
       "        text-align: right;\n",
       "    }\n",
       "</style>\n",
       "<table border=\"1\" class=\"dataframe\">\n",
       "  <thead>\n",
       "    <tr style=\"text-align: right;\">\n",
       "      <th></th>\n",
       "      <th>0</th>\n",
       "      <th>1</th>\n",
       "      <th>2</th>\n",
       "      <th>3</th>\n",
       "      <th>4</th>\n",
       "      <th>5</th>\n",
       "      <th>6</th>\n",
       "      <th>7</th>\n",
       "      <th>8</th>\n",
       "      <th>9</th>\n",
       "      <th>10</th>\n",
       "      <th>11</th>\n",
       "      <th>12</th>\n",
       "      <th>13</th>\n",
       "      <th>14</th>\n",
       "    </tr>\n",
       "  </thead>\n",
       "  <tbody>\n",
       "    <tr>\n",
       "      <th>cidade</th>\n",
       "      <td>São Paulo</td>\n",
       "      <td>São Paulo</td>\n",
       "      <td>Porto Alegre</td>\n",
       "      <td>Porto Alegre</td>\n",
       "      <td>São Paulo</td>\n",
       "      <td>São Paulo</td>\n",
       "      <td>Rio de Janeiro</td>\n",
       "      <td>São Paulo</td>\n",
       "      <td>São Paulo</td>\n",
       "      <td>Rio de Janeiro</td>\n",
       "      <td>São Paulo</td>\n",
       "      <td>Campinas</td>\n",
       "      <td>São Paulo</td>\n",
       "      <td>São Paulo</td>\n",
       "      <td>São Paulo</td>\n",
       "    </tr>\n",
       "    <tr>\n",
       "      <th>andar</th>\n",
       "      <td>7</td>\n",
       "      <td>20</td>\n",
       "      <td>6</td>\n",
       "      <td>2</td>\n",
       "      <td>1</td>\n",
       "      <td>0</td>\n",
       "      <td>7</td>\n",
       "      <td>4</td>\n",
       "      <td>3</td>\n",
       "      <td>2</td>\n",
       "      <td>2</td>\n",
       "      <td>10</td>\n",
       "      <td>11</td>\n",
       "      <td>2</td>\n",
       "      <td>24</td>\n",
       "    </tr>\n",
       "    <tr>\n",
       "      <th>aceita_animais</th>\n",
       "      <td>Sim</td>\n",
       "      <td>Sim</td>\n",
       "      <td>Sim</td>\n",
       "      <td>Sim</td>\n",
       "      <td>Não</td>\n",
       "      <td>Sim</td>\n",
       "      <td>Sim</td>\n",
       "      <td>Sim</td>\n",
       "      <td>Sim</td>\n",
       "      <td>Sim</td>\n",
       "      <td>Sim</td>\n",
       "      <td>Sim</td>\n",
       "      <td>Sim</td>\n",
       "      <td>Sim</td>\n",
       "      <td>Sim</td>\n",
       "    </tr>\n",
       "    <tr>\n",
       "      <th>mobilhada</th>\n",
       "      <td>Sim</td>\n",
       "      <td>Não</td>\n",
       "      <td>Não</td>\n",
       "      <td>Não</td>\n",
       "      <td>Não</td>\n",
       "      <td>Não</td>\n",
       "      <td>Não</td>\n",
       "      <td>Não</td>\n",
       "      <td>Sim</td>\n",
       "      <td>Sim</td>\n",
       "      <td>Sim</td>\n",
       "      <td>Não</td>\n",
       "      <td>Não</td>\n",
       "      <td>Sim</td>\n",
       "      <td>Sim</td>\n",
       "    </tr>\n",
       "  </tbody>\n",
       "</table>\n",
       "</div>"
      ],
      "text/plain": [
       "                       0          1             2             3          4          5               6          7          8               9          10        11         12         13         14\n",
       "cidade          São Paulo  São Paulo  Porto Alegre  Porto Alegre  São Paulo  São Paulo  Rio de Janeiro  São Paulo  São Paulo  Rio de Janeiro  São Paulo  Campinas  São Paulo  São Paulo  São Paulo\n",
       "andar                   7         20             6             2          1          0               7          4          3               2          2        10         11          2         24\n",
       "aceita_animais        Sim        Sim           Sim           Sim        Não        Sim             Sim        Sim        Sim             Sim        Sim       Sim        Sim        Sim        Sim\n",
       "mobilhada             Sim        Não           Não           Não        Não        Não             Não        Não        Sim             Sim        Sim       Não        Não        Sim        Sim"
      ]
     },
     "execution_count": 30,
     "metadata": {},
     "output_type": "execute_result"
    }
   ],
   "source": [
    "atributos_categoricos.head(15).T"
   ]
  },
  {
   "cell_type": "code",
   "execution_count": 31,
   "id": "dd1aeb9a",
   "metadata": {
    "ExecuteTime": {
     "end_time": "2021-10-27T10:01:33.444501Z",
     "start_time": "2021-10-27T10:01:32.162893Z"
    }
   },
   "outputs": [
    {
     "name": "stderr",
     "output_type": "stream",
     "text": [
      "/home/fhfraga/anaconda3/lib/python3.8/site-packages/seaborn/_decorators.py:36: FutureWarning: Pass the following variable as a keyword arg: x. From version 0.12, the only valid positional argument will be `data`, and passing other arguments without an explicit keyword will result in an error or misinterpretation.\n",
      "  warnings.warn(\n",
      "/home/fhfraga/anaconda3/lib/python3.8/site-packages/seaborn/_decorators.py:36: FutureWarning: Pass the following variable as a keyword arg: x. From version 0.12, the only valid positional argument will be `data`, and passing other arguments without an explicit keyword will result in an error or misinterpretation.\n",
      "  warnings.warn(\n",
      "/home/fhfraga/anaconda3/lib/python3.8/site-packages/seaborn/_decorators.py:36: FutureWarning: Pass the following variable as a keyword arg: x. From version 0.12, the only valid positional argument will be `data`, and passing other arguments without an explicit keyword will result in an error or misinterpretation.\n",
      "  warnings.warn(\n"
     ]
    },
    {
     "data": {
      "text/plain": [
       "<matplotlib.legend.Legend at 0x7fb3d989af70>"
      ]
     },
     "execution_count": 31,
     "metadata": {},
     "output_type": "execute_result"
    },
    {
     "data": {
      "image/png": "[encoded data removed]",
      "text/plain": [
       "<Figure size 1008x1008 with 6 Axes>"
      ]
     },
     "metadata": {},
     "output_type": "display_data"
    }
   ],
   "source": [
    "# cidade\n",
    "fig = plt.figure(figsize=(14, 14))\n",
    "ax1 = fig.add_subplot(3, 2, 1)\n",
    "sns.countplot(dados3['cidade'], ax=ax1)\n",
    "ax1.tick_params(rotation=15)\n",
    "\n",
    "ax2 = fig.add_subplot(3, 2, 2)\n",
    "sns.kdeplot(dados3[dados3['cidade'] == 'São Paulo']['valor_aluguel_(R$)'],\n",
    "            label='São Paulo', shade=True, ax=ax2)\n",
    "sns.kdeplot(dados3[dados3['cidade'] == 'Porto Alegre']['valor_aluguel_(R$)'],\n",
    "            label='Porto Alegre', shade=True, ax=ax2)\n",
    "sns.kdeplot(dados3[dados3['cidade'] == 'Rio de Janeiro']['valor_aluguel_(R$)'],\n",
    "            label='Rio de Janeiro', shade=True, ax=ax2)\n",
    "sns.kdeplot(dados3[dados3['cidade'] == 'Belo Horizonte']['valor_aluguel_(R$)'],\n",
    "            label='Belo Horizonte', shade=True, ax=ax2)\n",
    "sns.kdeplot(dados3[dados3['cidade'] == 'Campinas']['valor_aluguel_(R$)'],\n",
    "            label='Campinas', shade=True, ax=ax2)\n",
    "ax2.legend()\n",
    "\n",
    "# aceita animais\n",
    "ax3 = fig.add_subplot(3, 2, 3)\n",
    "sns.countplot(dados3['aceita_animais'], ax=ax3)\n",
    "\n",
    "ax4 = fig.add_subplot(3, 2, 4)\n",
    "sns.kdeplot(dados3[dados3['aceita_animais'] == 'Sim']['valor_aluguel_(R$)'],\n",
    "            label='Sim', shade=True, ax=ax4)\n",
    "sns.kdeplot(dados3[dados3['aceita_animais'] == 'Não']['valor_aluguel_(R$)'],\n",
    "            label='Não', shade=True, ax=ax4)\n",
    "\n",
    "ax4.legend()\n",
    "\n",
    "# mobilhada\n",
    "ax5 = fig.add_subplot(3, 2, 5)\n",
    "sns.countplot(dados3['mobilhada'], ax=ax5)\n",
    "\n",
    "ax6 = fig.add_subplot(3, 2, 6)\n",
    "sns.kdeplot(dados3[dados3['mobilhada'] == 'Sim']['valor_aluguel_(R$)'],\n",
    "            label='Sim', shade=True, ax=ax6)\n",
    "sns.kdeplot(dados3[dados3['mobilhada'] == 'Não']['valor_aluguel_(R$)'],\n",
    "            label='Não', shade=True, ax=ax6)\n",
    "\n",
    "ax6.legend()"
   ]
  },
  {
   "cell_type": "markdown",
   "id": "ac6e8943",
   "metadata": {},
   "source": [
    "A visualização dos dados de `andar` não foram mostradas, pois está variável possui diversos valores distintos, gerando uma visualização confusa."
   ]
  },
  {
   "cell_type": "markdown",
   "id": "d836736b",
   "metadata": {},
   "source": [
    "## Análise Bivariada"
   ]
  },
  {
   "cell_type": "markdown",
   "id": "9ca62e53",
   "metadata": {},
   "source": [
    "Na análise bivariada veremos como as variáveis impactam na variável resposta. Para isso criaremos hipóteses, que serão testadas. As hipóteses serão.\n",
    "1. Residências com áreas maiores são mais caras\n",
    "2. Residências com mais quartos são mais caras\n",
    "3. Residências com maior quantidade de banheiro são mais caras\n",
    "4. Residências com maior número de vagas para estacionamento são mais caras\n",
    "5. Residências mobilhadas são mais caras\n",
    "\n",
    "Nos ateremos a essas 5 hipóteses no momento. Vamos responder cada uma"
   ]
  },
  {
   "cell_type": "markdown",
   "id": "45333195",
   "metadata": {
    "ExecuteTime": {
     "end_time": "2021-10-26T21:23:37.038403Z",
     "start_time": "2021-10-26T21:23:37.022318Z"
    }
   },
   "source": [
    "### H1. Residências com áreas maiores são mais caras"
   ]
  },
  {
   "cell_type": "code",
   "execution_count": 32,
   "id": "3dfee64d",
   "metadata": {
    "ExecuteTime": {
     "end_time": "2021-10-27T10:01:33.451862Z",
     "start_time": "2021-10-27T10:01:33.446342Z"
    }
   },
   "outputs": [
    {
     "data": {
      "text/plain": [
       "149.21791994014217"
      ]
     },
     "execution_count": 32,
     "metadata": {},
     "output_type": "execute_result"
    }
   ],
   "source": [
    "# vendo a área média\n",
    "dados3['area'].mean()"
   ]
  },
  {
   "cell_type": "code",
   "execution_count": 33,
   "id": "82ee56e0",
   "metadata": {
    "ExecuteTime": {
     "end_time": "2021-10-27T10:01:33.835266Z",
     "start_time": "2021-10-27T10:01:33.456466Z"
    }
   },
   "outputs": [
    {
     "data": {
      "image/png": "[encoded data removed]",
      "text/plain": [
       "<Figure size 1800x864 with 1 Axes>"
      ]
     },
     "metadata": {},
     "output_type": "display_data"
    }
   ],
   "source": [
    "dados3['area_categoria'] = dados3['area'].apply(lambda x: 1 if x > 149 else 0) \n",
    "dados3 ['area_categoria'] = dados3['area_categoria'].replace({0: 'Abaixo da média', 1: 'Acima da média'})\n",
    "sns.set(font_scale=2)\n",
    "sns.barplot(x='area_categoria', y='valor_aluguel_(R$)', data=dados3)\n",
    "plt.xlabel('Área', fontsize=24)\n",
    "plt.ylabel('Valor do aluguel', fontsize=24)\n",
    "plt.title('O tamanho do imóvel interfere no preço?');"
   ]
  },
  {
   "cell_type": "markdown",
   "id": "3766934f",
   "metadata": {},
   "source": [
    "Vemos que essa hipótese é verdadeira, pois residência com áreas maiores tem o aluguel mais caro."
   ]
  },
  {
   "cell_type": "markdown",
   "id": "5f83288d",
   "metadata": {},
   "source": [
    "### H2. Residências com mais quartos são mais caras"
   ]
  },
  {
   "cell_type": "code",
   "execution_count": 34,
   "id": "b30d44b9",
   "metadata": {
    "ExecuteTime": {
     "end_time": "2021-10-27T10:01:34.111731Z",
     "start_time": "2021-10-27T10:01:33.837177Z"
    }
   },
   "outputs": [
    {
     "data": {
      "text/plain": [
       "<AxesSubplot:xlabel='quartos', ylabel='valor_aluguel_(R$)'>"
      ]
     },
     "execution_count": 34,
     "metadata": {},
     "output_type": "execute_result"
    },
    {
     "data": {
      "image/png": "[encoded data removed]",
      "text/plain": [
       "<Figure size 1800x864 with 1 Axes>"
      ]
     },
     "metadata": {},
     "output_type": "display_data"
    }
   ],
   "source": [
    "aux1_h2 = dados3[['quartos', 'valor_aluguel_(R$)']].groupby('quartos').mean().reset_index()\n",
    "sns.barplot(x='quartos', y='valor_aluguel_(R$)', data=aux1_h2)"
   ]
  },
  {
   "cell_type": "markdown",
   "id": "53bde485",
   "metadata": {},
   "source": [
    "Vemos que aqui também a hipótese é verdadeira, pois residências com mais quartos possui maiores alugueis."
   ]
  },
  {
   "cell_type": "markdown",
   "id": "4ede49aa",
   "metadata": {},
   "source": [
    "### H3. Residências com maior quantidade de banheiro são mais caras"
   ]
  },
  {
   "cell_type": "code",
   "execution_count": 35,
   "id": "a403f42d",
   "metadata": {
    "ExecuteTime": {
     "end_time": "2021-10-27T10:01:34.400958Z",
     "start_time": "2021-10-27T10:01:34.115535Z"
    }
   },
   "outputs": [
    {
     "data": {
      "text/plain": [
       "<AxesSubplot:xlabel='banheiros', ylabel='valor_aluguel_(R$)'>"
      ]
     },
     "execution_count": 35,
     "metadata": {},
     "output_type": "execute_result"
    },
    {
     "data": {
      "image/png": "[encoded data removed]",
      "text/plain": [
       "<Figure size 1800x864 with 1 Axes>"
      ]
     },
     "metadata": {},
     "output_type": "display_data"
    }
   ],
   "source": [
    "aux1_h3 = dados3[['banheiros', 'valor_aluguel_(R$)']].groupby('banheiros').mean().reset_index()\n",
    "sns.barplot(x='banheiros', y='valor_aluguel_(R$)', data=aux1_h3)"
   ]
  },
  {
   "cell_type": "markdown",
   "id": "54c553fa",
   "metadata": {},
   "source": [
    "Outra hipótese verdadeira. Residências com mais banheiros tem aluguel mais caro."
   ]
  },
  {
   "cell_type": "markdown",
   "id": "40fb7fa7",
   "metadata": {},
   "source": [
    "### H4. Residências com maior número de vagas para estacionamento são mais caras"
   ]
  },
  {
   "cell_type": "code",
   "execution_count": 36,
   "id": "c553a447",
   "metadata": {
    "ExecuteTime": {
     "end_time": "2021-10-27T10:01:34.660049Z",
     "start_time": "2021-10-27T10:01:34.403453Z"
    }
   },
   "outputs": [
    {
     "data": {
      "text/plain": [
       "<AxesSubplot:xlabel='numero_vagas', ylabel='valor_aluguel_(R$)'>"
      ]
     },
     "execution_count": 36,
     "metadata": {},
     "output_type": "execute_result"
    },
    {
     "data": {
      "image/png": "[encoded data removed]",
      "text/plain": [
       "<Figure size 1800x864 with 1 Axes>"
      ]
     },
     "metadata": {},
     "output_type": "display_data"
    }
   ],
   "source": [
    "aux1_h4 = dados3[['numero_vagas', 'valor_aluguel_(R$)']].groupby('numero_vagas').mean().reset_index()\n",
    "sns.barplot(x='numero_vagas', y='valor_aluguel_(R$)', data=aux1_h4)"
   ]
  },
  {
   "cell_type": "markdown",
   "id": "8213f700",
   "metadata": {},
   "source": [
    "Residências com mais vagas são mais caras. Hipótese verdadeira."
   ]
  },
  {
   "cell_type": "markdown",
   "id": "45cfd27d",
   "metadata": {},
   "source": [
    "### H5. Residências mobilhadas são mais caras\n"
   ]
  },
  {
   "cell_type": "code",
   "execution_count": 37,
   "id": "e92ab13c",
   "metadata": {
    "ExecuteTime": {
     "end_time": "2021-10-27T10:01:34.843707Z",
     "start_time": "2021-10-27T10:01:34.662141Z"
    }
   },
   "outputs": [
    {
     "data": {
      "text/plain": [
       "<AxesSubplot:xlabel='mobilhada', ylabel='valor_aluguel_(R$)'>"
      ]
     },
     "execution_count": 37,
     "metadata": {},
     "output_type": "execute_result"
    },
    {
     "data": {
      "image/png": "[encoded data removed]",
      "text/plain": [
       "<Figure size 1800x864 with 1 Axes>"
      ]
     },
     "metadata": {},
     "output_type": "display_data"
    }
   ],
   "source": [
    "aux1_h5 = dados3[['mobilhada', 'valor_aluguel_(R$)']].groupby('mobilhada').mean().reset_index()\n",
    "sns.barplot(x='mobilhada', y='valor_aluguel_(R$)', data=aux1_h5)"
   ]
  },
  {
   "cell_type": "markdown",
   "id": "3fd83fef",
   "metadata": {},
   "source": [
    "Residências mobilhadas são mais cara. Hipótese verdadeira."
   ]
  },
  {
   "cell_type": "markdown",
   "id": "3c19ac25",
   "metadata": {},
   "source": [
    "## Análise multivariada"
   ]
  },
  {
   "cell_type": "markdown",
   "id": "22493760",
   "metadata": {},
   "source": [
    "A análise multivariada ajuda a olhar quais variáveis que são correlacionadas."
   ]
  },
  {
   "cell_type": "markdown",
   "id": "ae494bd1",
   "metadata": {},
   "source": [
    "### Atributos numéricos "
   ]
  },
  {
   "cell_type": "code",
   "execution_count": 38,
   "id": "79fe6f0a",
   "metadata": {
    "ExecuteTime": {
     "end_time": "2021-10-27T10:01:35.267868Z",
     "start_time": "2021-10-27T10:01:34.845959Z"
    }
   },
   "outputs": [
    {
     "data": {
      "text/plain": [
       "<AxesSubplot:>"
      ]
     },
     "execution_count": 38,
     "metadata": {},
     "output_type": "execute_result"
    },
    {
     "data": {
      "image/png": "[encoded data removed]",
      "text/plain": [
       "<Figure size 1800x864 with 2 Axes>"
      ]
     },
     "metadata": {},
     "output_type": "display_data"
    }
   ],
   "source": [
    "correlacao_numerica = atributos_numericos.corr(method='pearson')\n",
    "sns.heatmap(correlacao_numerica, annot=True)"
   ]
  },
  {
   "cell_type": "markdown",
   "id": "98457556",
   "metadata": {},
   "source": [
    "Vemos que a variável que mais interfere no valor do aluguel é o número de banheiros. A que menos interfere á a área. Porém todas as variáveis interferem positivamente, logo quanto maior cada variável, maior o valor do aluguel."
   ]
  },
  {
   "cell_type": "markdown",
   "id": "0ef23892",
   "metadata": {},
   "source": [
    "### Atributos categóricos"
   ]
  },
  {
   "cell_type": "code",
   "execution_count": 39,
   "id": "83fa3f39",
   "metadata": {
    "ExecuteTime": {
     "end_time": "2021-10-27T10:01:35.287161Z",
     "start_time": "2021-10-27T10:01:35.270741Z"
    }
   },
   "outputs": [
    {
     "data": {
      "text/html": [
       "<div>\n",
       "<style scoped>\n",
       "    .dataframe tbody tr th:only-of-type {\n",
       "        vertical-align: middle;\n",
       "    }\n",
       "\n",
       "    .dataframe tbody tr th {\n",
       "        vertical-align: top;\n",
       "    }\n",
       "\n",
       "    .dataframe thead th {\n",
       "        text-align: right;\n",
       "    }\n",
       "</style>\n",
       "<table border=\"1\" class=\"dataframe\">\n",
       "  <thead>\n",
       "    <tr style=\"text-align: right;\">\n",
       "      <th></th>\n",
       "      <th>cidade</th>\n",
       "      <th>andar</th>\n",
       "      <th>aceita_animais</th>\n",
       "      <th>mobilhada</th>\n",
       "    </tr>\n",
       "  </thead>\n",
       "  <tbody>\n",
       "    <tr>\n",
       "      <th>0</th>\n",
       "      <td>São Paulo</td>\n",
       "      <td>7</td>\n",
       "      <td>Sim</td>\n",
       "      <td>Sim</td>\n",
       "    </tr>\n",
       "    <tr>\n",
       "      <th>1</th>\n",
       "      <td>São Paulo</td>\n",
       "      <td>20</td>\n",
       "      <td>Sim</td>\n",
       "      <td>Não</td>\n",
       "    </tr>\n",
       "    <tr>\n",
       "      <th>2</th>\n",
       "      <td>Porto Alegre</td>\n",
       "      <td>6</td>\n",
       "      <td>Sim</td>\n",
       "      <td>Não</td>\n",
       "    </tr>\n",
       "    <tr>\n",
       "      <th>3</th>\n",
       "      <td>Porto Alegre</td>\n",
       "      <td>2</td>\n",
       "      <td>Sim</td>\n",
       "      <td>Não</td>\n",
       "    </tr>\n",
       "    <tr>\n",
       "      <th>4</th>\n",
       "      <td>São Paulo</td>\n",
       "      <td>1</td>\n",
       "      <td>Não</td>\n",
       "      <td>Não</td>\n",
       "    </tr>\n",
       "  </tbody>\n",
       "</table>\n",
       "</div>"
      ],
      "text/plain": [
       "         cidade andar aceita_animais mobilhada\n",
       "0     São Paulo     7            Sim       Sim\n",
       "1     São Paulo    20            Sim       Não\n",
       "2  Porto Alegre     6            Sim       Não\n",
       "3  Porto Alegre     2            Sim       Não\n",
       "4     São Paulo     1            Não       Não"
      ]
     },
     "execution_count": 39,
     "metadata": {},
     "output_type": "execute_result"
    }
   ],
   "source": [
    "atributos_categoricos.head()"
   ]
  },
  {
   "cell_type": "markdown",
   "id": "4c57afb8",
   "metadata": {},
   "source": [
    "Vamos usar o método de correlação de Cramér's V para as variáveis categóricas.\n",
    "\n",
    "\n",
    "$$V = \\sqrt{\\frac{X^2/n}{min(k-1, r-1)}}$$\n"
   ]
  },
  {
   "cell_type": "code",
   "execution_count": 40,
   "id": "2e096f7d",
   "metadata": {
    "ExecuteTime": {
     "end_time": "2021-10-27T10:01:35.297567Z",
     "start_time": "2021-10-27T10:01:35.289773Z"
    }
   },
   "outputs": [],
   "source": [
    "def cramer_v(x, y):\n",
    "    cm = pd.crosstab(x, y).values\n",
    "    n = cm.sum()\n",
    "    r, k = cm.shape\n",
    "    \n",
    "    chi2 = stats.chi2_contingency(cm)[0]\n",
    "    chi2corr = max(0, chi2 - (k-1) * (r-1) / (n-1))\n",
    "    \n",
    "    kcorr = k - (k-1)**2 / (n-1)\n",
    "    rcorr = r - (r-1)**2 / (n-1)\n",
    "    \n",
    "    return np.sqrt((chi2corr/n) / min(kcorr - 1, rcorr - 1))"
   ]
  },
  {
   "cell_type": "code",
   "execution_count": 41,
   "id": "d2cbf940",
   "metadata": {
    "ExecuteTime": {
     "end_time": "2021-10-27T10:01:35.317366Z",
     "start_time": "2021-10-27T10:01:35.300945Z"
    }
   },
   "outputs": [
    {
     "data": {
      "text/html": [
       "<div>\n",
       "<style scoped>\n",
       "    .dataframe tbody tr th:only-of-type {\n",
       "        vertical-align: middle;\n",
       "    }\n",
       "\n",
       "    .dataframe tbody tr th {\n",
       "        vertical-align: top;\n",
       "    }\n",
       "\n",
       "    .dataframe thead th {\n",
       "        text-align: right;\n",
       "    }\n",
       "</style>\n",
       "<table border=\"1\" class=\"dataframe\">\n",
       "  <thead>\n",
       "    <tr style=\"text-align: right;\">\n",
       "      <th></th>\n",
       "      <th>cidade</th>\n",
       "      <th>andar</th>\n",
       "      <th>aceita_animais</th>\n",
       "      <th>mobilhada</th>\n",
       "    </tr>\n",
       "  </thead>\n",
       "  <tbody>\n",
       "    <tr>\n",
       "      <th>0</th>\n",
       "      <td>São Paulo</td>\n",
       "      <td>7</td>\n",
       "      <td>Sim</td>\n",
       "      <td>Sim</td>\n",
       "    </tr>\n",
       "    <tr>\n",
       "      <th>1</th>\n",
       "      <td>São Paulo</td>\n",
       "      <td>20</td>\n",
       "      <td>Sim</td>\n",
       "      <td>Não</td>\n",
       "    </tr>\n",
       "    <tr>\n",
       "      <th>2</th>\n",
       "      <td>Porto Alegre</td>\n",
       "      <td>6</td>\n",
       "      <td>Sim</td>\n",
       "      <td>Não</td>\n",
       "    </tr>\n",
       "    <tr>\n",
       "      <th>3</th>\n",
       "      <td>Porto Alegre</td>\n",
       "      <td>2</td>\n",
       "      <td>Sim</td>\n",
       "      <td>Não</td>\n",
       "    </tr>\n",
       "    <tr>\n",
       "      <th>4</th>\n",
       "      <td>São Paulo</td>\n",
       "      <td>1</td>\n",
       "      <td>Não</td>\n",
       "      <td>Não</td>\n",
       "    </tr>\n",
       "  </tbody>\n",
       "</table>\n",
       "</div>"
      ],
      "text/plain": [
       "         cidade andar aceita_animais mobilhada\n",
       "0     São Paulo     7            Sim       Sim\n",
       "1     São Paulo    20            Sim       Não\n",
       "2  Porto Alegre     6            Sim       Não\n",
       "3  Porto Alegre     2            Sim       Não\n",
       "4     São Paulo     1            Não       Não"
      ]
     },
     "execution_count": 41,
     "metadata": {},
     "output_type": "execute_result"
    }
   ],
   "source": [
    "atributos_categoricos.head()"
   ]
  },
  {
   "cell_type": "code",
   "execution_count": 42,
   "id": "e3442c3f",
   "metadata": {
    "ExecuteTime": {
     "end_time": "2021-10-27T10:01:35.642211Z",
     "start_time": "2021-10-27T10:01:35.319381Z"
    }
   },
   "outputs": [
    {
     "data": {
      "text/html": [
       "<div>\n",
       "<style scoped>\n",
       "    .dataframe tbody tr th:only-of-type {\n",
       "        vertical-align: middle;\n",
       "    }\n",
       "\n",
       "    .dataframe tbody tr th {\n",
       "        vertical-align: top;\n",
       "    }\n",
       "\n",
       "    .dataframe thead th {\n",
       "        text-align: right;\n",
       "    }\n",
       "</style>\n",
       "<table border=\"1\" class=\"dataframe\">\n",
       "  <thead>\n",
       "    <tr style=\"text-align: right;\">\n",
       "      <th></th>\n",
       "      <th>cidade</th>\n",
       "      <th>andar</th>\n",
       "      <th>aceita_animais</th>\n",
       "      <th>mobilhada</th>\n",
       "    </tr>\n",
       "  </thead>\n",
       "  <tbody>\n",
       "    <tr>\n",
       "      <th>cidade</th>\n",
       "      <td>1.000187</td>\n",
       "      <td>0.164030</td>\n",
       "      <td>0.074762</td>\n",
       "      <td>0.124109</td>\n",
       "    </tr>\n",
       "    <tr>\n",
       "      <th>andar</th>\n",
       "      <td>0.164030</td>\n",
       "      <td>1.001594</td>\n",
       "      <td>0.103754</td>\n",
       "      <td>0.165620</td>\n",
       "    </tr>\n",
       "    <tr>\n",
       "      <th>aceita_animais</th>\n",
       "      <td>0.074762</td>\n",
       "      <td>0.103754</td>\n",
       "      <td>0.999776</td>\n",
       "      <td>0.087714</td>\n",
       "    </tr>\n",
       "    <tr>\n",
       "      <th>mobilhada</th>\n",
       "      <td>0.124109</td>\n",
       "      <td>0.165620</td>\n",
       "      <td>0.087714</td>\n",
       "      <td>0.999793</td>\n",
       "    </tr>\n",
       "  </tbody>\n",
       "</table>\n",
       "</div>"
      ],
      "text/plain": [
       "                  cidade     andar  aceita_animais  mobilhada\n",
       "cidade          1.000187  0.164030        0.074762   0.124109\n",
       "andar           0.164030  1.001594        0.103754   0.165620\n",
       "aceita_animais  0.074762  0.103754        0.999776   0.087714\n",
       "mobilhada       0.124109  0.165620        0.087714   0.999793"
      ]
     },
     "execution_count": 42,
     "metadata": {},
     "output_type": "execute_result"
    }
   ],
   "source": [
    "# cidade\n",
    "atr_cat_1 = cramer_v(atributos_categoricos['cidade'], atributos_categoricos['cidade'])\n",
    "atr_cat_2 = cramer_v(atributos_categoricos['cidade'], atributos_categoricos['andar'])\n",
    "atr_cat_3 = cramer_v(atributos_categoricos['cidade'], atributos_categoricos['aceita_animais'])\n",
    "atr_cat_4 = cramer_v(atributos_categoricos['cidade'], atributos_categoricos['mobilhada'])\n",
    "\n",
    "# andar\n",
    "atr_cat_5 = cramer_v(atributos_categoricos['andar'], atributos_categoricos['cidade'])\n",
    "atr_cat_6 = cramer_v(atributos_categoricos['andar'], atributos_categoricos['andar'])\n",
    "atr_cat_7 = cramer_v(atributos_categoricos['andar'], atributos_categoricos['aceita_animais'])\n",
    "atr_cat_8 = cramer_v(atributos_categoricos['andar'], atributos_categoricos['mobilhada'])\n",
    "\n",
    "# aceita animais\n",
    "atr_cat_9 = cramer_v(atributos_categoricos['aceita_animais'], atributos_categoricos['cidade'])\n",
    "atr_cat_10 = cramer_v(atributos_categoricos['aceita_animais'], atributos_categoricos['andar'])\n",
    "atr_cat_11 = cramer_v(atributos_categoricos['aceita_animais'], atributos_categoricos['aceita_animais'])\n",
    "atr_cat_12 = cramer_v(atributos_categoricos['aceita_animais'], atributos_categoricos['mobilhada'])\n",
    "\n",
    "# mobilhada\n",
    "atr_cat_13 = cramer_v(atributos_categoricos['mobilhada'], atributos_categoricos['cidade'])\n",
    "atr_cat_14 = cramer_v(atributos_categoricos['mobilhada'], atributos_categoricos['andar'])\n",
    "atr_cat_15 = cramer_v(atributos_categoricos['mobilhada'], atributos_categoricos['aceita_animais'])\n",
    "atr_cat_16 = cramer_v(atributos_categoricos['mobilhada'], atributos_categoricos['mobilhada'])\n",
    "\n",
    "df_atr_cat = pd.DataFrame({'cidade': [atr_cat_1, atr_cat_2, atr_cat_3, atr_cat_4],\n",
    "                           'andar': [atr_cat_5, atr_cat_6, atr_cat_7, atr_cat_8],\n",
    "                           'aceita_animais': [atr_cat_9, atr_cat_10, atr_cat_11, atr_cat_12],\n",
    "                           'mobilhada': [atr_cat_13, atr_cat_14, atr_cat_15, atr_cat_16]})\n",
    "df_atr_cat = df_atr_cat.set_index(df_atr_cat.columns)\n",
    "df_atr_cat"
   ]
  },
  {
   "cell_type": "code",
   "execution_count": 43,
   "id": "61165095",
   "metadata": {
    "ExecuteTime": {
     "end_time": "2021-10-27T10:01:35.941343Z",
     "start_time": "2021-10-27T10:01:35.644425Z"
    }
   },
   "outputs": [
    {
     "data": {
      "text/plain": [
       "<AxesSubplot:>"
      ]
     },
     "execution_count": 43,
     "metadata": {},
     "output_type": "execute_result"
    },
    {
     "data": {
      "image/png": "[encoded data removed]",
      "text/plain": [
       "<Figure size 1800x864 with 2 Axes>"
      ]
     },
     "metadata": {},
     "output_type": "display_data"
    }
   ],
   "source": [
    "sns.heatmap(df_atr_cat, annot=True)"
   ]
  },
  {
   "cell_type": "markdown",
   "id": "8467afae",
   "metadata": {},
   "source": [
    "Vemos aqui que as variáveis categóricas possuem uma correlação positiva, porém a correlação é baixa, quase nula."
   ]
  },
  {
   "cell_type": "markdown",
   "id": "2eaffcb9",
   "metadata": {},
   "source": [
    "# Preparação dos dados"
   ]
  },
  {
   "cell_type": "code",
   "execution_count": 44,
   "id": "c66e3ec9",
   "metadata": {
    "ExecuteTime": {
     "end_time": "2021-10-27T10:01:35.946446Z",
     "start_time": "2021-10-27T10:01:35.943145Z"
    }
   },
   "outputs": [],
   "source": [
    "dados4 = dados3.copy()"
   ]
  },
  {
   "cell_type": "code",
   "execution_count": 45,
   "id": "58f41bf4",
   "metadata": {
    "ExecuteTime": {
     "end_time": "2021-10-27T10:01:35.964059Z",
     "start_time": "2021-10-27T10:01:35.948704Z"
    }
   },
   "outputs": [
    {
     "data": {
      "text/html": [
       "<div>\n",
       "<style scoped>\n",
       "    .dataframe tbody tr th:only-of-type {\n",
       "        vertical-align: middle;\n",
       "    }\n",
       "\n",
       "    .dataframe tbody tr th {\n",
       "        vertical-align: top;\n",
       "    }\n",
       "\n",
       "    .dataframe thead th {\n",
       "        text-align: right;\n",
       "    }\n",
       "</style>\n",
       "<table border=\"1\" class=\"dataframe\">\n",
       "  <thead>\n",
       "    <tr style=\"text-align: right;\">\n",
       "      <th></th>\n",
       "      <th>cidade</th>\n",
       "      <th>andar</th>\n",
       "      <th>aceita_animais</th>\n",
       "      <th>mobilhada</th>\n",
       "    </tr>\n",
       "  </thead>\n",
       "  <tbody>\n",
       "    <tr>\n",
       "      <th>0</th>\n",
       "      <td>São Paulo</td>\n",
       "      <td>7</td>\n",
       "      <td>Sim</td>\n",
       "      <td>Sim</td>\n",
       "    </tr>\n",
       "  </tbody>\n",
       "</table>\n",
       "</div>"
      ],
      "text/plain": [
       "      cidade andar aceita_animais mobilhada\n",
       "0  São Paulo     7            Sim       Sim"
      ]
     },
     "execution_count": 45,
     "metadata": {},
     "output_type": "execute_result"
    }
   ],
   "source": [
    "atributos_categoricos.head(1)"
   ]
  },
  {
   "cell_type": "markdown",
   "id": "a1ab09bf",
   "metadata": {},
   "source": [
    "Realizaremos um encodign nas variáveis categóricas"
   ]
  },
  {
   "cell_type": "code",
   "execution_count": 46,
   "id": "3937c9fb",
   "metadata": {
    "ExecuteTime": {
     "end_time": "2021-10-27T10:01:35.989383Z",
     "start_time": "2021-10-27T10:01:35.966118Z"
    }
   },
   "outputs": [
    {
     "data": {
      "text/html": [
       "<div>\n",
       "<style scoped>\n",
       "    .dataframe tbody tr th:only-of-type {\n",
       "        vertical-align: middle;\n",
       "    }\n",
       "\n",
       "    .dataframe tbody tr th {\n",
       "        vertical-align: top;\n",
       "    }\n",
       "\n",
       "    .dataframe thead th {\n",
       "        text-align: right;\n",
       "    }\n",
       "</style>\n",
       "<table border=\"1\" class=\"dataframe\">\n",
       "  <thead>\n",
       "    <tr style=\"text-align: right;\">\n",
       "      <th></th>\n",
       "      <th>cidade</th>\n",
       "      <th>area</th>\n",
       "      <th>quartos</th>\n",
       "      <th>banheiros</th>\n",
       "      <th>numero_vagas</th>\n",
       "      <th>andar</th>\n",
       "      <th>aceita_animais</th>\n",
       "      <th>mobilhada</th>\n",
       "      <th>valor_aluguel_(R$)</th>\n",
       "      <th>area_categoria</th>\n",
       "      <th>cidade_lb</th>\n",
       "      <th>aceita_animais_enc</th>\n",
       "      <th>mobilhada_enc</th>\n",
       "    </tr>\n",
       "  </thead>\n",
       "  <tbody>\n",
       "    <tr>\n",
       "      <th>0</th>\n",
       "      <td>São Paulo</td>\n",
       "      <td>70</td>\n",
       "      <td>2</td>\n",
       "      <td>1</td>\n",
       "      <td>1</td>\n",
       "      <td>7</td>\n",
       "      <td>Sim</td>\n",
       "      <td>Sim</td>\n",
       "      <td>3300</td>\n",
       "      <td>Abaixo da média</td>\n",
       "      <td>4</td>\n",
       "      <td>1</td>\n",
       "      <td>1</td>\n",
       "    </tr>\n",
       "    <tr>\n",
       "      <th>1</th>\n",
       "      <td>São Paulo</td>\n",
       "      <td>320</td>\n",
       "      <td>4</td>\n",
       "      <td>4</td>\n",
       "      <td>0</td>\n",
       "      <td>20</td>\n",
       "      <td>Sim</td>\n",
       "      <td>Não</td>\n",
       "      <td>4960</td>\n",
       "      <td>Acima da média</td>\n",
       "      <td>4</td>\n",
       "      <td>1</td>\n",
       "      <td>0</td>\n",
       "    </tr>\n",
       "    <tr>\n",
       "      <th>2</th>\n",
       "      <td>Porto Alegre</td>\n",
       "      <td>80</td>\n",
       "      <td>1</td>\n",
       "      <td>1</td>\n",
       "      <td>1</td>\n",
       "      <td>6</td>\n",
       "      <td>Sim</td>\n",
       "      <td>Não</td>\n",
       "      <td>2800</td>\n",
       "      <td>Abaixo da média</td>\n",
       "      <td>2</td>\n",
       "      <td>1</td>\n",
       "      <td>0</td>\n",
       "    </tr>\n",
       "    <tr>\n",
       "      <th>3</th>\n",
       "      <td>Porto Alegre</td>\n",
       "      <td>51</td>\n",
       "      <td>2</td>\n",
       "      <td>1</td>\n",
       "      <td>0</td>\n",
       "      <td>2</td>\n",
       "      <td>Sim</td>\n",
       "      <td>Não</td>\n",
       "      <td>1112</td>\n",
       "      <td>Abaixo da média</td>\n",
       "      <td>2</td>\n",
       "      <td>1</td>\n",
       "      <td>0</td>\n",
       "    </tr>\n",
       "    <tr>\n",
       "      <th>4</th>\n",
       "      <td>São Paulo</td>\n",
       "      <td>25</td>\n",
       "      <td>1</td>\n",
       "      <td>1</td>\n",
       "      <td>0</td>\n",
       "      <td>1</td>\n",
       "      <td>Não</td>\n",
       "      <td>Não</td>\n",
       "      <td>800</td>\n",
       "      <td>Abaixo da média</td>\n",
       "      <td>4</td>\n",
       "      <td>0</td>\n",
       "      <td>0</td>\n",
       "    </tr>\n",
       "  </tbody>\n",
       "</table>\n",
       "</div>"
      ],
      "text/plain": [
       "         cidade  area  quartos  banheiros  numero_vagas andar aceita_animais mobilhada  valor_aluguel_(R$)   area_categoria  cidade_lb  aceita_animais_enc  mobilhada_enc\n",
       "0     São Paulo    70        2          1             1     7            Sim       Sim                3300  Abaixo da média          4                   1              1\n",
       "1     São Paulo   320        4          4             0    20            Sim       Não                4960   Acima da média          4                   1              0\n",
       "2  Porto Alegre    80        1          1             1     6            Sim       Não                2800  Abaixo da média          2                   1              0\n",
       "3  Porto Alegre    51        2          1             0     2            Sim       Não                1112  Abaixo da média          2                   1              0\n",
       "4     São Paulo    25        1          1             0     1            Não       Não                 800  Abaixo da média          4                   0              0"
      ]
     },
     "execution_count": 46,
     "metadata": {},
     "output_type": "execute_result"
    }
   ],
   "source": [
    "# cidade\n",
    "# usaremos o label enconder\n",
    "LbEnconder = LabelEncoder()\n",
    "dados4['cidade_lb'] = LbEnconder.fit_transform(dados4['cidade'])\n",
    "\n",
    "# aceita animais\n",
    "# usaremos a função map\n",
    "dados4['aceita_animais_enc'] = dados4['aceita_animais'].map({'Sim': 1, 'Não': 0 })\n",
    "\n",
    "# mobilhada\n",
    "# usaremos a função map\n",
    "dados4['mobilhada_enc'] = dados4['mobilhada'].map({'Sim': 1, 'Não': 0 })\n",
    "dados4.head()"
   ]
  },
  {
   "cell_type": "markdown",
   "id": "4fbff79c",
   "metadata": {},
   "source": [
    "## Divisão dos dados em treino e teste"
   ]
  },
  {
   "cell_type": "code",
   "execution_count": 47,
   "id": "6183d4d5",
   "metadata": {
    "ExecuteTime": {
     "end_time": "2021-10-27T10:01:36.003946Z",
     "start_time": "2021-10-27T10:01:35.991610Z"
    }
   },
   "outputs": [
    {
     "data": {
      "text/html": [
       "<div>\n",
       "<style scoped>\n",
       "    .dataframe tbody tr th:only-of-type {\n",
       "        vertical-align: middle;\n",
       "    }\n",
       "\n",
       "    .dataframe tbody tr th {\n",
       "        vertical-align: top;\n",
       "    }\n",
       "\n",
       "    .dataframe thead th {\n",
       "        text-align: right;\n",
       "    }\n",
       "</style>\n",
       "<table border=\"1\" class=\"dataframe\">\n",
       "  <thead>\n",
       "    <tr style=\"text-align: right;\">\n",
       "      <th></th>\n",
       "      <th>cidade</th>\n",
       "      <th>area</th>\n",
       "      <th>quartos</th>\n",
       "      <th>banheiros</th>\n",
       "      <th>numero_vagas</th>\n",
       "      <th>andar</th>\n",
       "      <th>aceita_animais</th>\n",
       "      <th>mobilhada</th>\n",
       "      <th>valor_aluguel_(R$)</th>\n",
       "      <th>area_categoria</th>\n",
       "      <th>cidade_lb</th>\n",
       "      <th>aceita_animais_enc</th>\n",
       "      <th>mobilhada_enc</th>\n",
       "    </tr>\n",
       "  </thead>\n",
       "  <tbody>\n",
       "    <tr>\n",
       "      <th>0</th>\n",
       "      <td>São Paulo</td>\n",
       "      <td>70</td>\n",
       "      <td>2</td>\n",
       "      <td>1</td>\n",
       "      <td>1</td>\n",
       "      <td>7</td>\n",
       "      <td>Sim</td>\n",
       "      <td>Sim</td>\n",
       "      <td>3300</td>\n",
       "      <td>Abaixo da média</td>\n",
       "      <td>4</td>\n",
       "      <td>1</td>\n",
       "      <td>1</td>\n",
       "    </tr>\n",
       "  </tbody>\n",
       "</table>\n",
       "</div>"
      ],
      "text/plain": [
       "      cidade  area  quartos  banheiros  numero_vagas andar aceita_animais mobilhada  valor_aluguel_(R$)   area_categoria  cidade_lb  aceita_animais_enc  mobilhada_enc\n",
       "0  São Paulo    70        2          1             1     7            Sim       Sim                3300  Abaixo da média          4                   1              1"
      ]
     },
     "execution_count": 47,
     "metadata": {},
     "output_type": "execute_result"
    }
   ],
   "source": [
    "dados4.head(1)"
   ]
  },
  {
   "cell_type": "code",
   "execution_count": 48,
   "id": "7ff43a97",
   "metadata": {
    "ExecuteTime": {
     "end_time": "2021-10-27T10:01:36.021365Z",
     "start_time": "2021-10-27T10:01:36.005781Z"
    }
   },
   "outputs": [
    {
     "data": {
      "text/html": [
       "<div>\n",
       "<style scoped>\n",
       "    .dataframe tbody tr th:only-of-type {\n",
       "        vertical-align: middle;\n",
       "    }\n",
       "\n",
       "    .dataframe tbody tr th {\n",
       "        vertical-align: top;\n",
       "    }\n",
       "\n",
       "    .dataframe thead th {\n",
       "        text-align: right;\n",
       "    }\n",
       "</style>\n",
       "<table border=\"1\" class=\"dataframe\">\n",
       "  <thead>\n",
       "    <tr style=\"text-align: right;\">\n",
       "      <th></th>\n",
       "      <th>area</th>\n",
       "      <th>quartos</th>\n",
       "      <th>banheiros</th>\n",
       "      <th>numero_vagas</th>\n",
       "      <th>cidade_lb</th>\n",
       "      <th>aceita_animais_enc</th>\n",
       "      <th>mobilhada_enc</th>\n",
       "    </tr>\n",
       "  </thead>\n",
       "  <tbody>\n",
       "    <tr>\n",
       "      <th>0</th>\n",
       "      <td>70</td>\n",
       "      <td>2</td>\n",
       "      <td>1</td>\n",
       "      <td>1</td>\n",
       "      <td>4</td>\n",
       "      <td>1</td>\n",
       "      <td>1</td>\n",
       "    </tr>\n",
       "    <tr>\n",
       "      <th>1</th>\n",
       "      <td>320</td>\n",
       "      <td>4</td>\n",
       "      <td>4</td>\n",
       "      <td>0</td>\n",
       "      <td>4</td>\n",
       "      <td>1</td>\n",
       "      <td>0</td>\n",
       "    </tr>\n",
       "    <tr>\n",
       "      <th>2</th>\n",
       "      <td>80</td>\n",
       "      <td>1</td>\n",
       "      <td>1</td>\n",
       "      <td>1</td>\n",
       "      <td>2</td>\n",
       "      <td>1</td>\n",
       "      <td>0</td>\n",
       "    </tr>\n",
       "    <tr>\n",
       "      <th>3</th>\n",
       "      <td>51</td>\n",
       "      <td>2</td>\n",
       "      <td>1</td>\n",
       "      <td>0</td>\n",
       "      <td>2</td>\n",
       "      <td>1</td>\n",
       "      <td>0</td>\n",
       "    </tr>\n",
       "    <tr>\n",
       "      <th>4</th>\n",
       "      <td>25</td>\n",
       "      <td>1</td>\n",
       "      <td>1</td>\n",
       "      <td>0</td>\n",
       "      <td>4</td>\n",
       "      <td>0</td>\n",
       "      <td>0</td>\n",
       "    </tr>\n",
       "  </tbody>\n",
       "</table>\n",
       "</div>"
      ],
      "text/plain": [
       "   area  quartos  banheiros  numero_vagas  cidade_lb  aceita_animais_enc  mobilhada_enc\n",
       "0    70        2          1             1          4                   1              1\n",
       "1   320        4          4             0          4                   1              0\n",
       "2    80        1          1             1          2                   1              0\n",
       "3    51        2          1             0          2                   1              0\n",
       "4    25        1          1             0          4                   0              0"
      ]
     },
     "execution_count": 48,
     "metadata": {},
     "output_type": "execute_result"
    }
   ],
   "source": [
    "x = dados4[['area', 'quartos', 'banheiros', 'numero_vagas', 'cidade_lb',\n",
    "            'aceita_animais_enc', 'mobilhada_enc']]\n",
    "x.head()"
   ]
  },
  {
   "cell_type": "code",
   "execution_count": 49,
   "id": "dc30d0f4",
   "metadata": {
    "ExecuteTime": {
     "end_time": "2021-10-27T10:01:36.029747Z",
     "start_time": "2021-10-27T10:01:36.023171Z"
    }
   },
   "outputs": [
    {
     "data": {
      "text/plain": [
       "0    3300\n",
       "1    4960\n",
       "2    2800\n",
       "3    1112\n",
       "4     800\n",
       "Name: valor_aluguel_(R$), dtype: int64"
      ]
     },
     "execution_count": 49,
     "metadata": {},
     "output_type": "execute_result"
    }
   ],
   "source": [
    "y = dados4['valor_aluguel_(R$)']\n",
    "y.head()"
   ]
  },
  {
   "cell_type": "code",
   "execution_count": 50,
   "id": "c2b26bf6",
   "metadata": {
    "ExecuteTime": {
     "end_time": "2021-10-27T10:01:36.034788Z",
     "start_time": "2021-10-27T10:01:36.032256Z"
    }
   },
   "outputs": [],
   "source": [
    "# divisão dos dados usando o train_test_split() do scikit-learn"
   ]
  },
  {
   "cell_type": "code",
   "execution_count": 51,
   "id": "871a137a",
   "metadata": {
    "ExecuteTime": {
     "end_time": "2021-10-27T10:01:36.150489Z",
     "start_time": "2021-10-27T10:01:36.036826Z"
    }
   },
   "outputs": [],
   "source": [
    "x_train, x_test, y_train, y_test = train_test_split(x, y, test_size=0.3, random_state=42)"
   ]
  },
  {
   "cell_type": "markdown",
   "id": "1c7d642e",
   "metadata": {},
   "source": [
    "# Estimando o modelo"
   ]
  },
  {
   "cell_type": "markdown",
   "id": "b13f30c2",
   "metadata": {},
   "source": [
    "## As features selecionadas são significativas?"
   ]
  },
  {
   "cell_type": "markdown",
   "id": "a42158ad",
   "metadata": {},
   "source": [
    "Veremos se as features selecionadas são significativas para o modelo, faremos isso com testes estatísticos usando o statsmodels."
   ]
  },
  {
   "cell_type": "code",
   "execution_count": 52,
   "id": "047dd45f",
   "metadata": {
    "ExecuteTime": {
     "end_time": "2021-10-27T10:01:36.188379Z",
     "start_time": "2021-10-27T10:01:36.152074Z"
    }
   },
   "outputs": [
    {
     "data": {
      "text/html": [
       "<table class=\"simpletable\">\n",
       "<caption>OLS Regression Results</caption>\n",
       "<tr>\n",
       "  <th>Dep. Variable:</th>    <td>valor_aluguel_(R$)</td> <th>  R-squared:         </th> <td>   0.520</td> \n",
       "</tr>\n",
       "<tr>\n",
       "  <th>Model:</th>                    <td>OLS</td>        <th>  Adj. R-squared:    </th> <td>   0.520</td> \n",
       "</tr>\n",
       "<tr>\n",
       "  <th>Method:</th>              <td>Least Squares</td>   <th>  F-statistic:       </th> <td>   1158.</td> \n",
       "</tr>\n",
       "<tr>\n",
       "  <th>Date:</th>              <td>Wed, 27 Oct 2021</td>  <th>  Prob (F-statistic):</th>  <td>  0.00</td>  \n",
       "</tr>\n",
       "<tr>\n",
       "  <th>Time:</th>                  <td>07:01:36</td>      <th>  Log-Likelihood:    </th> <td> -68848.</td> \n",
       "</tr>\n",
       "<tr>\n",
       "  <th>No. Observations:</th>       <td>  7484</td>       <th>  AIC:               </th> <td>1.377e+05</td>\n",
       "</tr>\n",
       "<tr>\n",
       "  <th>Df Residuals:</th>           <td>  7476</td>       <th>  BIC:               </th> <td>1.378e+05</td>\n",
       "</tr>\n",
       "<tr>\n",
       "  <th>Df Model:</th>               <td>     7</td>       <th>                     </th>     <td> </td>    \n",
       "</tr>\n",
       "<tr>\n",
       "  <th>Covariance Type:</th>       <td>nonrobust</td>     <th>                     </th>     <td> </td>    \n",
       "</tr>\n",
       "</table>\n",
       "<table class=\"simpletable\">\n",
       "<tr>\n",
       "           <td></td>             <th>coef</th>     <th>std err</th>      <th>t</th>      <th>P>|t|</th>  <th>[0.025</th>    <th>0.975]</th>  \n",
       "</tr>\n",
       "<tr>\n",
       "  <th>const</th>              <td>-1186.7066</td> <td>  101.679</td> <td>  -11.671</td> <td> 0.000</td> <td>-1386.026</td> <td> -987.388</td>\n",
       "</tr>\n",
       "<tr>\n",
       "  <th>area</th>               <td>    0.0935</td> <td>    0.046</td> <td>    2.039</td> <td> 0.041</td> <td>    0.004</td> <td>    0.183</td>\n",
       "</tr>\n",
       "<tr>\n",
       "  <th>quartos</th>            <td>  350.1287</td> <td>   36.960</td> <td>    9.473</td> <td> 0.000</td> <td>  277.677</td> <td>  422.581</td>\n",
       "</tr>\n",
       "<tr>\n",
       "  <th>banheiros</th>          <td> 1037.6756</td> <td>   33.054</td> <td>   31.393</td> <td> 0.000</td> <td>  972.880</td> <td> 1102.471</td>\n",
       "</tr>\n",
       "<tr>\n",
       "  <th>numero_vagas</th>       <td>  438.2056</td> <td>   24.820</td> <td>   17.656</td> <td> 0.000</td> <td>  389.552</td> <td>  486.859</td>\n",
       "</tr>\n",
       "<tr>\n",
       "  <th>cidade_lb</th>          <td>  327.1472</td> <td>   19.677</td> <td>   16.626</td> <td> 0.000</td> <td>  288.574</td> <td>  365.720</td>\n",
       "</tr>\n",
       "<tr>\n",
       "  <th>aceita_animais_enc</th> <td> -103.3586</td> <td>   67.726</td> <td>   -1.526</td> <td> 0.127</td> <td> -236.121</td> <td>   29.404</td>\n",
       "</tr>\n",
       "<tr>\n",
       "  <th>mobilhada_enc</th>      <td> 1229.9503</td> <td>   65.809</td> <td>   18.690</td> <td> 0.000</td> <td> 1100.946</td> <td> 1358.955</td>\n",
       "</tr>\n",
       "</table>\n",
       "<table class=\"simpletable\">\n",
       "<tr>\n",
       "  <th>Omnibus:</th>       <td>3120.149</td> <th>  Durbin-Watson:     </th> <td>   2.022</td> \n",
       "</tr>\n",
       "<tr>\n",
       "  <th>Prob(Omnibus):</th>  <td> 0.000</td>  <th>  Jarque-Bera (JB):  </th> <td>32727.693</td>\n",
       "</tr>\n",
       "<tr>\n",
       "  <th>Skew:</th>           <td> 1.707</td>  <th>  Prob(JB):          </th> <td>    0.00</td> \n",
       "</tr>\n",
       "<tr>\n",
       "  <th>Kurtosis:</th>       <td>12.659</td>  <th>  Cond. No.          </th> <td>2.54e+03</td> \n",
       "</tr>\n",
       "</table><br/><br/>Notes:<br/>[1] Standard Errors assume that the covariance matrix of the errors is correctly specified.<br/>[2] The condition number is large, 2.54e+03. This might indicate that there are<br/>strong multicollinearity or other numerical problems."
      ],
      "text/plain": [
       "<class 'statsmodels.iolib.summary.Summary'>\n",
       "\"\"\"\n",
       "                            OLS Regression Results                            \n",
       "==============================================================================\n",
       "Dep. Variable:     valor_aluguel_(R$)   R-squared:                       0.520\n",
       "Model:                            OLS   Adj. R-squared:                  0.520\n",
       "Method:                 Least Squares   F-statistic:                     1158.\n",
       "Date:                Wed, 27 Oct 2021   Prob (F-statistic):               0.00\n",
       "Time:                        07:01:36   Log-Likelihood:                -68848.\n",
       "No. Observations:                7484   AIC:                         1.377e+05\n",
       "Df Residuals:                    7476   BIC:                         1.378e+05\n",
       "Df Model:                           7                                         \n",
       "Covariance Type:            nonrobust                                         \n",
       "======================================================================================\n",
       "                         coef    std err          t      P>|t|      [0.025      0.975]\n",
       "--------------------------------------------------------------------------------------\n",
       "const              -1186.7066    101.679    -11.671      0.000   -1386.026    -987.388\n",
       "area                   0.0935      0.046      2.039      0.041       0.004       0.183\n",
       "quartos              350.1287     36.960      9.473      0.000     277.677     422.581\n",
       "banheiros           1037.6756     33.054     31.393      0.000     972.880    1102.471\n",
       "numero_vagas         438.2056     24.820     17.656      0.000     389.552     486.859\n",
       "cidade_lb            327.1472     19.677     16.626      0.000     288.574     365.720\n",
       "aceita_animais_enc  -103.3586     67.726     -1.526      0.127    -236.121      29.404\n",
       "mobilhada_enc       1229.9503     65.809     18.690      0.000    1100.946    1358.955\n",
       "==============================================================================\n",
       "Omnibus:                     3120.149   Durbin-Watson:                   2.022\n",
       "Prob(Omnibus):                  0.000   Jarque-Bera (JB):            32727.693\n",
       "Skew:                           1.707   Prob(JB):                         0.00\n",
       "Kurtosis:                      12.659   Cond. No.                     2.54e+03\n",
       "==============================================================================\n",
       "\n",
       "Notes:\n",
       "[1] Standard Errors assume that the covariance matrix of the errors is correctly specified.\n",
       "[2] The condition number is large, 2.54e+03. This might indicate that there are\n",
       "strong multicollinearity or other numerical problems.\n",
       "\"\"\""
      ]
     },
     "execution_count": 52,
     "metadata": {},
     "output_type": "execute_result"
    }
   ],
   "source": [
    "# adicionando a constante\n",
    "x_train_constante = sm.add_constant(x_train)\n",
    "\n",
    "# trainando o modelo OLS\n",
    "modelo_statsmodels = sm.OLS(y_train, x_train_constante, hascont=True).fit()\n",
    "\n",
    "modelo_statsmodels.summary()"
   ]
  },
  {
   "cell_type": "markdown",
   "id": "23f11e3b",
   "metadata": {},
   "source": [
    "Com a tabela, conseguimos ver que a variável `aceita_animais_enc` não é tão significante para a regressão, por isso vamos excluir a variável."
   ]
  },
  {
   "cell_type": "code",
   "execution_count": 53,
   "id": "222a198d",
   "metadata": {
    "ExecuteTime": {
     "end_time": "2021-10-27T10:01:36.202235Z",
     "start_time": "2021-10-27T10:01:36.190593Z"
    }
   },
   "outputs": [
    {
     "data": {
      "text/html": [
       "<div>\n",
       "<style scoped>\n",
       "    .dataframe tbody tr th:only-of-type {\n",
       "        vertical-align: middle;\n",
       "    }\n",
       "\n",
       "    .dataframe tbody tr th {\n",
       "        vertical-align: top;\n",
       "    }\n",
       "\n",
       "    .dataframe thead th {\n",
       "        text-align: right;\n",
       "    }\n",
       "</style>\n",
       "<table border=\"1\" class=\"dataframe\">\n",
       "  <thead>\n",
       "    <tr style=\"text-align: right;\">\n",
       "      <th></th>\n",
       "      <th>area</th>\n",
       "      <th>quartos</th>\n",
       "      <th>banheiros</th>\n",
       "      <th>numero_vagas</th>\n",
       "      <th>cidade_lb</th>\n",
       "      <th>mobilhada_enc</th>\n",
       "    </tr>\n",
       "  </thead>\n",
       "  <tbody>\n",
       "    <tr>\n",
       "      <th>8204</th>\n",
       "      <td>140</td>\n",
       "      <td>4</td>\n",
       "      <td>3</td>\n",
       "      <td>4</td>\n",
       "      <td>0</td>\n",
       "      <td>0</td>\n",
       "    </tr>\n",
       "    <tr>\n",
       "      <th>7926</th>\n",
       "      <td>100</td>\n",
       "      <td>3</td>\n",
       "      <td>3</td>\n",
       "      <td>0</td>\n",
       "      <td>4</td>\n",
       "      <td>0</td>\n",
       "    </tr>\n",
       "    <tr>\n",
       "      <th>7756</th>\n",
       "      <td>189</td>\n",
       "      <td>3</td>\n",
       "      <td>4</td>\n",
       "      <td>3</td>\n",
       "      <td>4</td>\n",
       "      <td>0</td>\n",
       "    </tr>\n",
       "    <tr>\n",
       "      <th>2689</th>\n",
       "      <td>91</td>\n",
       "      <td>3</td>\n",
       "      <td>2</td>\n",
       "      <td>2</td>\n",
       "      <td>2</td>\n",
       "      <td>0</td>\n",
       "    </tr>\n",
       "    <tr>\n",
       "      <th>6161</th>\n",
       "      <td>48</td>\n",
       "      <td>2</td>\n",
       "      <td>1</td>\n",
       "      <td>1</td>\n",
       "      <td>4</td>\n",
       "      <td>1</td>\n",
       "    </tr>\n",
       "  </tbody>\n",
       "</table>\n",
       "</div>"
      ],
      "text/plain": [
       "      area  quartos  banheiros  numero_vagas  cidade_lb  mobilhada_enc\n",
       "8204   140        4          3             4          0              0\n",
       "7926   100        3          3             0          4              0\n",
       "7756   189        3          4             3          4              0\n",
       "2689    91        3          2             2          2              0\n",
       "6161    48        2          1             1          4              1"
      ]
     },
     "execution_count": 53,
     "metadata": {},
     "output_type": "execute_result"
    }
   ],
   "source": [
    "x_train = x_train.drop('aceita_animais_enc', axis=1)\n",
    "x_train.head()"
   ]
  },
  {
   "cell_type": "code",
   "execution_count": 54,
   "id": "cf738dc2",
   "metadata": {
    "ExecuteTime": {
     "end_time": "2021-10-27T10:01:36.216062Z",
     "start_time": "2021-10-27T10:01:36.204281Z"
    }
   },
   "outputs": [
    {
     "data": {
      "text/html": [
       "<div>\n",
       "<style scoped>\n",
       "    .dataframe tbody tr th:only-of-type {\n",
       "        vertical-align: middle;\n",
       "    }\n",
       "\n",
       "    .dataframe tbody tr th {\n",
       "        vertical-align: top;\n",
       "    }\n",
       "\n",
       "    .dataframe thead th {\n",
       "        text-align: right;\n",
       "    }\n",
       "</style>\n",
       "<table border=\"1\" class=\"dataframe\">\n",
       "  <thead>\n",
       "    <tr style=\"text-align: right;\">\n",
       "      <th></th>\n",
       "      <th>area</th>\n",
       "      <th>quartos</th>\n",
       "      <th>banheiros</th>\n",
       "      <th>numero_vagas</th>\n",
       "      <th>cidade_lb</th>\n",
       "      <th>mobilhada_enc</th>\n",
       "    </tr>\n",
       "  </thead>\n",
       "  <tbody>\n",
       "    <tr>\n",
       "      <th>1964</th>\n",
       "      <td>134</td>\n",
       "      <td>3</td>\n",
       "      <td>3</td>\n",
       "      <td>2</td>\n",
       "      <td>1</td>\n",
       "      <td>0</td>\n",
       "    </tr>\n",
       "    <tr>\n",
       "      <th>5267</th>\n",
       "      <td>80</td>\n",
       "      <td>2</td>\n",
       "      <td>1</td>\n",
       "      <td>1</td>\n",
       "      <td>3</td>\n",
       "      <td>0</td>\n",
       "    </tr>\n",
       "    <tr>\n",
       "      <th>9630</th>\n",
       "      <td>80</td>\n",
       "      <td>2</td>\n",
       "      <td>2</td>\n",
       "      <td>1</td>\n",
       "      <td>1</td>\n",
       "      <td>1</td>\n",
       "    </tr>\n",
       "    <tr>\n",
       "      <th>5503</th>\n",
       "      <td>90</td>\n",
       "      <td>3</td>\n",
       "      <td>2</td>\n",
       "      <td>1</td>\n",
       "      <td>0</td>\n",
       "      <td>0</td>\n",
       "    </tr>\n",
       "    <tr>\n",
       "      <th>1683</th>\n",
       "      <td>300</td>\n",
       "      <td>4</td>\n",
       "      <td>2</td>\n",
       "      <td>0</td>\n",
       "      <td>4</td>\n",
       "      <td>0</td>\n",
       "    </tr>\n",
       "  </tbody>\n",
       "</table>\n",
       "</div>"
      ],
      "text/plain": [
       "      area  quartos  banheiros  numero_vagas  cidade_lb  mobilhada_enc\n",
       "1964   134        3          3             2          1              0\n",
       "5267    80        2          1             1          3              0\n",
       "9630    80        2          2             1          1              1\n",
       "5503    90        3          2             1          0              0\n",
       "1683   300        4          2             0          4              0"
      ]
     },
     "execution_count": 54,
     "metadata": {},
     "output_type": "execute_result"
    }
   ],
   "source": [
    "x_test = x_test.drop('aceita_animais_enc', axis=1)\n",
    "x_test.head()"
   ]
  },
  {
   "cell_type": "markdown",
   "id": "e7cb5206",
   "metadata": {},
   "source": [
    "## Estimando o modelo de regressão linear"
   ]
  },
  {
   "cell_type": "code",
   "execution_count": 55,
   "id": "443d3172",
   "metadata": {
    "ExecuteTime": {
     "end_time": "2021-10-27T10:01:36.239207Z",
     "start_time": "2021-10-27T10:01:36.218516Z"
    }
   },
   "outputs": [
    {
     "data": {
      "text/html": [
       "<div>\n",
       "<style scoped>\n",
       "    .dataframe tbody tr th:only-of-type {\n",
       "        vertical-align: middle;\n",
       "    }\n",
       "\n",
       "    .dataframe tbody tr th {\n",
       "        vertical-align: top;\n",
       "    }\n",
       "\n",
       "    .dataframe thead th {\n",
       "        text-align: right;\n",
       "    }\n",
       "</style>\n",
       "<table border=\"1\" class=\"dataframe\">\n",
       "  <thead>\n",
       "    <tr style=\"text-align: right;\">\n",
       "      <th></th>\n",
       "      <th>Métricas</th>\n",
       "    </tr>\n",
       "  </thead>\n",
       "  <tbody>\n",
       "    <tr>\n",
       "      <th>MAE</th>\n",
       "      <td>1529.75</td>\n",
       "    </tr>\n",
       "    <tr>\n",
       "      <th>MAPE (%)</th>\n",
       "      <td>47.92</td>\n",
       "    </tr>\n",
       "    <tr>\n",
       "      <th>RMSE</th>\n",
       "      <td>2305.06</td>\n",
       "    </tr>\n",
       "  </tbody>\n",
       "</table>\n",
       "</div>"
      ],
      "text/plain": [
       "          Métricas\n",
       "MAE        1529.75\n",
       "MAPE (%)     47.92\n",
       "RMSE       2305.06"
      ]
     },
     "execution_count": 55,
     "metadata": {},
     "output_type": "execute_result"
    }
   ],
   "source": [
    "modelo_regressao_linear = LinearRegression()\n",
    "\n",
    "# treinando o modelo\n",
    "modelo_regressao_linear.fit(x_train, y_train)\n",
    "\n",
    "# previsões do modelo\n",
    "valor_previsto = modelo_regressao_linear.predict(x_test)\n",
    "\n",
    "# observando as métricas\n",
    "mae = metrics.mean_absolute_error(y_test, valor_previsto)\n",
    "mape = metrics.mean_absolute_percentage_error(y_test, valor_previsto) * 100\n",
    "rmse = np.sqrt(metrics.mean_squared_error(y_test, valor_previsto))\n",
    "\n",
    "# dataframe métricas\n",
    "pd.DataFrame([mae, mape, rmse]).rename(index={0: 'MAE', 1: 'MAPE (%)',\n",
    "                                                  2: 'RMSE'}, columns = {0: 'Métricas'}).round(2)"
   ]
  },
  {
   "cell_type": "code",
   "execution_count": 56,
   "id": "f590dfdd",
   "metadata": {
    "ExecuteTime": {
     "end_time": "2021-10-27T10:01:36.268723Z",
     "start_time": "2021-10-27T10:01:36.247141Z"
    }
   },
   "outputs": [
    {
     "data": {
      "text/html": [
       "<div>\n",
       "<style scoped>\n",
       "    .dataframe tbody tr th:only-of-type {\n",
       "        vertical-align: middle;\n",
       "    }\n",
       "\n",
       "    .dataframe tbody tr th {\n",
       "        vertical-align: top;\n",
       "    }\n",
       "\n",
       "    .dataframe thead th {\n",
       "        text-align: right;\n",
       "    }\n",
       "</style>\n",
       "<table border=\"1\" class=\"dataframe\">\n",
       "  <thead>\n",
       "    <tr style=\"text-align: right;\">\n",
       "      <th></th>\n",
       "      <th>Métricas</th>\n",
       "    </tr>\n",
       "  </thead>\n",
       "  <tbody>\n",
       "    <tr>\n",
       "      <th>MAE</th>\n",
       "      <td>1529.65</td>\n",
       "    </tr>\n",
       "    <tr>\n",
       "      <th>MAPE (%)</th>\n",
       "      <td>47.92</td>\n",
       "    </tr>\n",
       "    <tr>\n",
       "      <th>RMSE</th>\n",
       "      <td>2305.01</td>\n",
       "    </tr>\n",
       "  </tbody>\n",
       "</table>\n",
       "</div>"
      ],
      "text/plain": [
       "          Métricas\n",
       "MAE        1529.65\n",
       "MAPE (%)     47.92\n",
       "RMSE       2305.01"
      ]
     },
     "execution_count": 56,
     "metadata": {},
     "output_type": "execute_result"
    }
   ],
   "source": [
    "modelo_lasso = Lasso()\n",
    "\n",
    "# treinando o modelo\n",
    "modelo_lasso.fit(x_train, y_train)\n",
    "\n",
    "# previsões do modelo\n",
    "valor_previsto_lasso = modelo_lasso.predict(x_test)\n",
    "\n",
    "# observando as métricas\n",
    "mae = metrics.mean_absolute_error(y_test, valor_previsto_lasso)\n",
    "mape = metrics.mean_absolute_percentage_error(y_test, valor_previsto_lasso) * 100\n",
    "rmse = np.sqrt(metrics.mean_squared_error(y_test, valor_previsto_lasso))\n",
    "\n",
    "# dataframe métricas\n",
    "pd.DataFrame([mae, mape, rmse]).rename(index={0: 'MAE', 1: 'MAPE (%)',\n",
    "                                                  2: 'RMSE'}, columns = {0: 'Métricas'}).round(2)"
   ]
  },
  {
   "cell_type": "code",
   "execution_count": 57,
   "id": "1e9cacf2",
   "metadata": {
    "ExecuteTime": {
     "end_time": "2021-10-27T10:01:37.427121Z",
     "start_time": "2021-10-27T10:01:36.271092Z"
    }
   },
   "outputs": [
    {
     "data": {
      "text/html": [
       "<div>\n",
       "<style scoped>\n",
       "    .dataframe tbody tr th:only-of-type {\n",
       "        vertical-align: middle;\n",
       "    }\n",
       "\n",
       "    .dataframe tbody tr th {\n",
       "        vertical-align: top;\n",
       "    }\n",
       "\n",
       "    .dataframe thead th {\n",
       "        text-align: right;\n",
       "    }\n",
       "</style>\n",
       "<table border=\"1\" class=\"dataframe\">\n",
       "  <thead>\n",
       "    <tr style=\"text-align: right;\">\n",
       "      <th></th>\n",
       "      <th>Métricas</th>\n",
       "    </tr>\n",
       "  </thead>\n",
       "  <tbody>\n",
       "    <tr>\n",
       "      <th>MAE</th>\n",
       "      <td>1441.85</td>\n",
       "    </tr>\n",
       "    <tr>\n",
       "      <th>MAPE (%)</th>\n",
       "      <td>41.69</td>\n",
       "    </tr>\n",
       "    <tr>\n",
       "      <th>RMSE</th>\n",
       "      <td>2314.80</td>\n",
       "    </tr>\n",
       "  </tbody>\n",
       "</table>\n",
       "</div>"
      ],
      "text/plain": [
       "          Métricas\n",
       "MAE        1441.85\n",
       "MAPE (%)     41.69\n",
       "RMSE       2314.80"
      ]
     },
     "execution_count": 57,
     "metadata": {},
     "output_type": "execute_result"
    }
   ],
   "source": [
    "modelo_random_forest = RandomForestRegressor()\n",
    "\n",
    "# treinando o modelo\n",
    "modelo_random_forest.fit(x_train, y_train)\n",
    "\n",
    "# previsões do modelo\n",
    "valor_previsto_random = modelo_random_forest.predict(x_test)\n",
    "\n",
    "# observando as métricas\n",
    "mae = metrics.mean_absolute_error(y_test, valor_previsto_random)\n",
    "mape = metrics.mean_absolute_percentage_error(y_test, valor_previsto_random) * 100\n",
    "rmse = np.sqrt(metrics.mean_squared_error(y_test, valor_previsto_random))\n",
    "\n",
    "# dataframe métricas\n",
    "pd.DataFrame([mae, mape, rmse]).rename(index={0: 'MAE', 1: 'MAPE (%)',\n",
    "                                                  2: 'RMSE'}, columns = {0: 'Métricas'}).round(2)"
   ]
  },
  {
   "cell_type": "markdown",
   "id": "8667a1fa",
   "metadata": {},
   "source": [
    "# Previsão"
   ]
  },
  {
   "cell_type": "code",
   "execution_count": 58,
   "id": "bbee2479",
   "metadata": {
    "ExecuteTime": {
     "end_time": "2021-10-27T10:01:37.445247Z",
     "start_time": "2021-10-27T10:01:37.430136Z"
    }
   },
   "outputs": [
    {
     "data": {
      "text/html": [
       "<div>\n",
       "<style scoped>\n",
       "    .dataframe tbody tr th:only-of-type {\n",
       "        vertical-align: middle;\n",
       "    }\n",
       "\n",
       "    .dataframe tbody tr th {\n",
       "        vertical-align: top;\n",
       "    }\n",
       "\n",
       "    .dataframe thead th {\n",
       "        text-align: right;\n",
       "    }\n",
       "</style>\n",
       "<table border=\"1\" class=\"dataframe\">\n",
       "  <thead>\n",
       "    <tr style=\"text-align: right;\">\n",
       "      <th></th>\n",
       "      <th>area</th>\n",
       "      <th>quartos</th>\n",
       "      <th>banheiros</th>\n",
       "      <th>numero_vagas</th>\n",
       "      <th>cidade_lb</th>\n",
       "      <th>mobilhada_enc</th>\n",
       "    </tr>\n",
       "  </thead>\n",
       "  <tbody>\n",
       "    <tr>\n",
       "      <th>1964</th>\n",
       "      <td>134</td>\n",
       "      <td>3</td>\n",
       "      <td>3</td>\n",
       "      <td>2</td>\n",
       "      <td>1</td>\n",
       "      <td>0</td>\n",
       "    </tr>\n",
       "  </tbody>\n",
       "</table>\n",
       "</div>"
      ],
      "text/plain": [
       "      area  quartos  banheiros  numero_vagas  cidade_lb  mobilhada_enc\n",
       "1964   134        3          3             2          1              0"
      ]
     },
     "execution_count": 58,
     "metadata": {},
     "output_type": "execute_result"
    }
   ],
   "source": [
    "x_test.head(1)"
   ]
  },
  {
   "cell_type": "code",
   "execution_count": 59,
   "id": "11ae7b37",
   "metadata": {
    "ExecuteTime": {
     "end_time": "2021-10-27T10:01:37.467005Z",
     "start_time": "2021-10-27T10:01:37.447583Z"
    }
   },
   "outputs": [
    {
     "name": "stdout",
     "output_type": "stream",
     "text": [
      "O preço de aluguel de uma casa com essas características é de R$ 12014.56\n"
     ]
    }
   ],
   "source": [
    "area = 360\n",
    "quartos = 3\n",
    "banheiros = 2\n",
    "numero_vagas = 3\n",
    "cidade_lb = 3\n",
    "mobilhada_enc = 1\n",
    "\n",
    "entrada = [[area, quartos, banheiros, numero_vagas, cidade_lb, mobilhada_enc]]\n",
    "\n",
    "valor_imovel = modelo_random_forest.predict(entrada).round(2)[0]\n",
    "\n",
    "print(f'O preço de aluguel de uma casa com essas características é de R$ {valor_imovel}')"
   ]
  },
  {
   "cell_type": "code",
   "execution_count": 60,
   "id": "fade2de7",
   "metadata": {
    "ExecuteTime": {
     "end_time": "2021-10-27T10:02:23.639198Z",
     "start_time": "2021-10-27T10:02:23.491846Z"
    }
   },
   "outputs": [
    {
     "data": {
      "text/plain": [
       "0.894504826419725"
      ]
     },
     "execution_count": 60,
     "metadata": {},
     "output_type": "execute_result"
    }
   ],
   "source": [
    "modelo_random_forest.score(x_train, y_train)"
   ]
  },
  {
   "cell_type": "code",
   "execution_count": 61,
   "id": "3f8235e9",
   "metadata": {
    "ExecuteTime": {
     "end_time": "2021-10-27T10:04:01.542206Z",
     "start_time": "2021-10-27T10:04:01.469691Z"
    }
   },
   "outputs": [
    {
     "data": {
      "text/plain": [
       "0.506611380831903"
      ]
     },
     "execution_count": 61,
     "metadata": {},
     "output_type": "execute_result"
    }
   ],
   "source": [
    "modelo_random_forest.score(x_test, y_test)"
   ]
  },
  {
   "cell_type": "code",
   "execution_count": null,
   "id": "c25176ce",
   "metadata": {},
   "outputs": [],
   "source": []
  }
 ],
 "metadata": {
  "hide_input": false,
  "kernelspec": {
   "display_name": "Python 3",
   "language": "python",
   "name": "python3"
  },
  "language_info": {
   "codemirror_mode": {
    "name": "ipython",
    "version": 3
   },
   "file_extension": ".py",
   "mimetype": "text/x-python",
   "name": "python",
   "nbconvert_exporter": "python",
   "pygments_lexer": "ipython3",
   "version": "3.8.8"
  },
  "nbTranslate": {
   "displayLangs": [
    "pt",
    "en"
   ],
   "hotkey": "alt-t",
   "langInMainMenu": true,
   "sourceLang": "en",
   "targetLang": "pt",
   "useGoogleTranslate": true
  },
  "toc": {
   "base_numbering": "0",
   "nav_menu": {},
   "number_sections": true,
   "sideBar": true,
   "skip_h1_title": false,
   "title_cell": "Table of Contents",
   "title_sidebar": "Contents",
   "toc_cell": false,
   "toc_position": {
    "height": "calc(100% - 180px)",
    "left": "10px",
    "top": "150px",
    "width": "204.8px"
   },
   "toc_section_display": true,
   "toc_window_display": false
  }
 },
 "nbformat": 4,
 "nbformat_minor": 5
}
